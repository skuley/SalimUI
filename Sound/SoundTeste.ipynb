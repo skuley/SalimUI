{
 "cells": [
  {
   "cell_type": "code",
   "execution_count": 150,
   "outputs": [
    {
     "data": {
      "text/plain": "(<__main__.PdCumul at 0x264fe5e7df0>,\n <__main__.PdCumul at 0x264fe5e7b50>,\n 'success_cs')"
     },
     "execution_count": 150,
     "metadata": {},
     "output_type": "execute_result"
    }
   ],
   "source": [
    "from enum import Enum, auto\n",
    "\n",
    "class Cumul_Count(Enum):\n",
    "    success_cs = auto()\n",
    "    success_cu = auto()\n",
    "    pass_cs = auto()\n",
    "    pass_cu = auto()\n",
    "    fail_cs = auto()\n",
    "    fail_cu = auto()\n",
    "\n",
    "    def __str__(self):\n",
    "        return self.name\n",
    "\n",
    "\n",
    "class PdCumul:\n",
    "\n",
    "    def __init__(self, pd_name):\n",
    "        self.pd_name = pd_name\n",
    "        self.success_cs = 0\n",
    "        self.cnt_dict = {}\n",
    "        for item in list(Cumul_Count):\n",
    "            self.cnt_dict[str(item)] = 0\n",
    "\n",
    "    # def clear(self):\n",
    "\n",
    "A = PdCumul('sample')\n",
    "B = PdCumul(\"sample1\")\n",
    "\n",
    "# list(Cumul_Count)\n",
    "A, B, str(list(Cumul_Count)[0])\n",
    "str(Cumul_Count)"
   ],
   "metadata": {
    "collapsed": false,
    "pycharm": {
     "name": "#%%\n"
    }
   }
  },
  {
   "cell_type": "code",
   "execution_count": 152,
   "outputs": [
    {
     "data": {
      "text/plain": "{'success_cs': 0,\n 'success_cu': 0,\n 'pass_cs': 0,\n 'pass_cu': 0,\n 'fail_cs': 0,\n 'fail_cu': 0}"
     },
     "execution_count": 152,
     "metadata": {},
     "output_type": "execute_result"
    }
   ],
   "source": [
    "cnt_dict = {}\n",
    "for item in list(Cumul_Count):\n",
    "    cnt_dict[str(item)] = 0\n",
    "\n",
    "cnt_dict"
   ],
   "metadata": {
    "collapsed": false,
    "pycharm": {
     "name": "#%%\n"
    }
   }
  }
 ],
 "metadata": {
  "kernelspec": {
   "display_name": "Python 3",
   "language": "python",
   "name": "python3"
  },
  "language_info": {
   "codemirror_mode": {
    "name": "ipython",
    "version": 2
   },
   "file_extension": ".py",
   "mimetype": "text/x-python",
   "name": "python",
   "nbconvert_exporter": "python",
   "pygments_lexer": "ipython2",
   "version": "2.7.6"
  }
 },
 "nbformat": 4,
 "nbformat_minor": 0
}