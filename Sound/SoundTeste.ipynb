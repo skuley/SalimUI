{
 "cells": [
  {
   "cell_type": "code",
   "execution_count": 9,
   "outputs": [],
   "source": [
    "from enum import Enum, auto\n",
    "\n",
    "class Cumul_Count(Enum):\n",
    "    success_cs = \"합격\"\n",
    "    success_cu = auto()\n",
    "    pass_cs = \"유보\"\n",
    "    pass_cu = auto()\n",
    "    fail_cs = \"불합격\"\n",
    "    fail_cu = auto()\n",
    "    total = auto()\n",
    "\n",
    "    def __str__(self):\n",
    "        return self.name"
   ],
   "metadata": {
    "collapsed": false,
    "pycharm": {
     "name": "#%%\n"
    }
   }
  },
  {
   "cell_type": "code",
   "execution_count": 29,
   "outputs": [],
   "source": [
    "final_result_dict = {\n",
    "    '합격': Cumul_Count.success_cs,\n",
    "    '유보': Cumul_Count.pass_cs,\n",
    "    '불합격': Cumul_Count.fail_cs\n",
    "}\n",
    "\n",
    "class PdCumul:\n",
    "    def __init__(self, pd_name):\n",
    "        self.pd_name = pd_name\n",
    "        self.cu_dict = {}\n",
    "        self.cs_dict = {}\n",
    "        self.prior_target = ''\n",
    "        for item in list(Cumul_Count):\n",
    "            if '_cs' in str(item):\n",
    "                self.cs_dict[str(item)] = 0\n",
    "            else:\n",
    "                self.cu_dict[str(item)] = 0\n",
    "\n",
    "    def clear(self):\n",
    "        for key in self.cs_dict.keys():\n",
    "            self.cs_dict[key] = 0\n",
    "\n",
    "        for key in self.cu_dict.keys():\n",
    "            self.cu_dict[key] = 0\n",
    "\n",
    "    def add(self, target):\n",
    "        target = str(target)\n",
    "        self.cs_dict[target] += 1\n",
    "        if self.prior_target != target:\n",
    "            self.prior_target = target\n",
    "            rest = [item for item in self.cs_dict.keys() if item != target]\n",
    "            for item in rest:\n",
    "                self.cs_dict[item] = 0\n",
    "        cumul_target = target.replace('_cs', '_cu')\n",
    "        self.cu_dict[cumul_target] += 1\n",
    "        self.cu_dict['total'] += 1\n",
    "\n",
    "    def rslt_dict(self):\n",
    "        result = {}\n",
    "        result.update(self.cs_dict)\n",
    "        result.update(self.cu_dict)\n",
    "        return result\n",
    "\n",
    "    def product_name(self):\n",
    "        return self.pd_name"
   ],
   "metadata": {
    "collapsed": false,
    "pycharm": {
     "name": "#%%\n"
    }
   }
  },
  {
   "cell_type": "code",
   "execution_count": 33,
   "outputs": [
    {
     "data": {
      "text/plain": "{'success_cs': 0,\n 'pass_cs': 0,\n 'fail_cs': 1,\n 'success_cu': 1,\n 'pass_cu': 0,\n 'fail_cu': 1,\n 'total': 2}"
     },
     "execution_count": 33,
     "metadata": {},
     "output_type": "execute_result"
    }
   ],
   "source": [
    "count_collection ={}\n",
    "p_name1 = '유기농 방울 토마토'\n",
    "count_collection[p_name1] = PdCumul(p_name1)\n",
    "count_collection[p_name1].add(final_result_dict['합격'])\n",
    "count_collection[p_name1].add(final_result_dict['불합격'])\n",
    "count_collection[p_name1].rslt_dict()"
   ],
   "metadata": {
    "collapsed": false,
    "pycharm": {
     "name": "#%%\n"
    }
   }
  },
  {
   "cell_type": "code",
   "execution_count": null,
   "outputs": [],
   "source": [
    "A = PdCumul('sample')\n",
    "A.add_cs(final_result_dict['합격'])\n",
    "A.add_cs(final_result_dict['합격'])\n",
    "A.add_cs(final_result_dict['합격'])\n",
    "A.add_cs(final_result_dict['불합격'])\n",
    "A.add_cs(final_result_dict['불합격'])\n",
    "A.add_cs(final_result_dict['불합격'])\n",
    "A.add_cs(final_result_dict['유보'])\n",
    "A.result_dict()"
   ],
   "metadata": {
    "collapsed": false,
    "pycharm": {
     "name": "#%%\n"
    }
   }
  },
  {
   "cell_type": "code",
   "execution_count": 110,
   "outputs": [
    {
     "data": {
      "text/plain": "{'success_cs': 2,\n 'pass_cs': 0,\n 'fail_cs': 0,\n 'success_cu': 2,\n 'pass_cu': 0,\n 'fail_cu': 0,\n 'total': 2}"
     },
     "execution_count": 110,
     "metadata": {},
     "output_type": "execute_result"
    }
   ],
   "source": [
    "A.add(final_result_dict['합격'])\n",
    "A.rslt_dict()"
   ],
   "metadata": {
    "collapsed": false,
    "pycharm": {
     "name": "#%%\n"
    }
   }
  },
  {
   "cell_type": "code",
   "execution_count": 105,
   "outputs": [
    {
     "data": {
      "text/plain": "{'success_cs': 0,\n 'pass_cs': 0,\n 'fail_cs': 0,\n 'success_cu': 0,\n 'pass_cu': 0,\n 'fail_cu': 0,\n 'total': 0}"
     },
     "execution_count": 105,
     "metadata": {},
     "output_type": "execute_result"
    }
   ],
   "source": [
    "rslt_collection = {}\n",
    "a_pd_name = 'sample'\n",
    "b_pd_name = 'sample1'\n",
    "rslt_collection[a_pd_name] = PdCumul(a_pd_name)\n",
    "rslt_collection[b_pd_name] = PdCumul(b_pd_name)\n",
    "rslt_collection[a_pd_name].rslt_dict()\n",
    "# rslt_collection[A.pd_name()] = A"
   ],
   "metadata": {
    "collapsed": false,
    "pycharm": {
     "name": "#%%\n"
    }
   }
  },
  {
   "cell_type": "code",
   "execution_count": 100,
   "outputs": [
    {
     "ename": "AttributeError",
     "evalue": "'PdCumul' object has no attribute 'product_name'",
     "output_type": "error",
     "traceback": [
      "\u001B[1;31m---------------------------------------------------------------------------\u001B[0m",
      "\u001B[1;31mAttributeError\u001B[0m                            Traceback (most recent call last)",
      "\u001B[1;32m~\\AppData\\Local\\Temp/ipykernel_12708/308219073.py\u001B[0m in \u001B[0;36m<module>\u001B[1;34m\u001B[0m\n\u001B[1;32m----> 1\u001B[1;33m \u001B[0mrslt_collection\u001B[0m\u001B[1;33m[\u001B[0m\u001B[0mA\u001B[0m\u001B[1;33m.\u001B[0m\u001B[0mproduct_name\u001B[0m\u001B[1;33m(\u001B[0m\u001B[1;33m)\u001B[0m\u001B[1;33m]\u001B[0m\u001B[1;33m.\u001B[0m\u001B[0madd_cs\u001B[0m\u001B[1;33m(\u001B[0m\u001B[0mfinal_result_dict\u001B[0m\u001B[1;33m[\u001B[0m\u001B[1;34m'합격'\u001B[0m\u001B[1;33m]\u001B[0m\u001B[1;33m)\u001B[0m\u001B[1;33m\u001B[0m\u001B[1;33m\u001B[0m\u001B[0m\n\u001B[0m\u001B[0;32m      2\u001B[0m \u001B[0mrslt_collection\u001B[0m\u001B[1;33m[\u001B[0m\u001B[0mA\u001B[0m\u001B[1;33m.\u001B[0m\u001B[0mproduct_name\u001B[0m\u001B[1;33m(\u001B[0m\u001B[1;33m)\u001B[0m\u001B[1;33m]\u001B[0m\u001B[1;33m.\u001B[0m\u001B[0mresult_dict\u001B[0m\u001B[1;33m(\u001B[0m\u001B[1;33m)\u001B[0m\u001B[1;33m\u001B[0m\u001B[1;33m\u001B[0m\u001B[0m\n",
      "\u001B[1;31mAttributeError\u001B[0m: 'PdCumul' object has no attribute 'product_name'"
     ]
    }
   ],
   "source": [
    "rslt_collection[A.product_name()].add_cs(final_result_dict['합격'])\n",
    "rslt_collection[A.product_name()].result_dict()"
   ],
   "metadata": {
    "collapsed": false,
    "pycharm": {
     "name": "#%%\n"
    }
   }
  },
  {
   "cell_type": "code",
   "execution_count": 57,
   "outputs": [
    {
     "data": {
      "text/plain": "[<VerHeaderNm.product_name: '제품명'>,\n <VerHeaderNm.weight: '중량(수량)'>,\n <VerHeaderNm.barcode: '바코드'>,\n <VerHeaderNm.cert_mark: '인증마크'>,\n <VerHeaderNm.cert_result: '인증정보'>]"
     },
     "execution_count": 57,
     "metadata": {},
     "output_type": "execute_result"
    }
   ],
   "source": [
    "from enum import Enum\n",
    "class VerHeaderNm(Enum):\n",
    "    product_name = '제품명'\n",
    "    weight = '중량(수량)'\n",
    "    barcode = '바코드'\n",
    "    cert_mark = '인증마크'\n",
    "    cert_result = '인증정보'\n",
    "    inspect = '검사'\n",
    "    pass_inspect = 'pass'\n",
    "\n",
    "    def kor(self):\n",
    "        return self.value\n",
    "\n",
    "    def eng(self):\n",
    "        return self.name\n",
    "\n",
    "VerHeaderNm.product_name.kor()\n",
    "VerHeaderNm.barcode.eng()\n",
    "list(VerHeaderNm)"
   ],
   "metadata": {
    "collapsed": false,
    "pycharm": {
     "name": "#%%\n"
    }
   }
  },
  {
   "cell_type": "code",
   "execution_count": 13,
   "outputs": [],
   "source": [
    "results = [{'barcode': '2500000279935', 'cert_mark': ['organic'], 'cert_result': {\n",
    "            '12100489': {'in_db': True, 'mark_status': 'success',\n",
    "                         'name': {'db': '김영대', 'ocr_rslt': '김영대', 'score': 1.0},\n",
    "                         'number': {'db': '12100489', 'ocr_rslt': '12100409', 'score': 0.875}}},\n",
    "                    'date_time': '02/15/2022, 15:35:24', 'label_id': 157,\n",
    "                    'label_loc': '/mnt/vitasoft/salim/detected_labels/2500000279935/0157.png',\n",
    "                    'product_name': {'name': '친환경 방울토마토', 'status': 'success'}, 'rot_angle': 180,\n",
    "                    'weight': {'db': '600g', 'ocr_rslt': '600g', 'score': 1.0, 'status': 'success'}},\n",
    "                   {'barcode': '2500000279935', 'cert_mark': ['organic'], 'cert_result': {\n",
    "                       '04829818': {'in_db': False, 'mark_status': 'success',\n",
    "                                    'number': {'db': '04829818', 'ocr_rslt': '04829818'}},\n",
    "                       '12100489': {'in_db': True, 'mark_status': 'success',\n",
    "                                    'name': {'db': '김영대', 'ocr_rslt': '김영대', 'score': 1.0},\n",
    "                                    'number': {'db': '12100489', 'ocr_rslt': '12100489', 'score': 1.0}}},\n",
    "                    'date_time': '02/15/2022, 16:40:53', 'label_id': 562,\n",
    "                    'label_loc': '/mnt/vitasoft/salim/detected_labels/2500000279935/0562.png',\n",
    "                    'product_name': {'name': '친환경 방울토마토', 'status': 'success'}, 'rot_angle': 0,\n",
    "                    'weight': {'db': '600g', 'ocr_rslt': '600g', 'score': 1.0, 'status': 'success'}}]"
   ],
   "metadata": {
    "collapsed": false,
    "pycharm": {
     "name": "#%%\n"
    }
   }
  },
  {
   "cell_type": "code",
   "execution_count": 53,
   "outputs": [
    {
     "data": {
      "text/plain": "[['제품명', '친환경 방울토마토', '친환경 방울토마토', '100%', '승인'],\n ['중량(수량)', '600g', '600g', '100%', '승인'],\n ['바코드', '2500000279935', '2500000279935', '100%', '승인'],\n ['인증마크', '유기농', '1', '100%', '승인'],\n ['인증정보', '12100409 김영대', '12100489 김영대', '94%', '승인']]"
     },
     "execution_count": 53,
     "metadata": {},
     "output_type": "execute_result"
    }
   ],
   "source": [
    "result = {'product_name': ['친환경 방울토마토', '친환경 방울토마토', '100%', '승인'], 'weight': ['600g', '600g', '100%', '승인'], 'barcode': ['2500000279935', '2500000279935', '100%', '승인'], 'cert_mark': [['유기농', '1', '100%', '승인']], 'cert_result': [['12100409 김영대', '12100489 김영대', '94%', '승인']]}\n",
    "\n",
    "# print_lst = []\n",
    "# ver_header_lst = list(VerHeaderNm)\n",
    "# for header in ver_header_lst:\n",
    "#     result[header.name].insert(0, header.value)\n",
    "#     print_lst.append(result[header.name])\n",
    "\n",
    "# for key, value in result.items():\n",
    "#     if VerHeaderNm.cert_mark.eng() == key or VerHeaderNm.cert_result.eng() == key:\n",
    "\n",
    "import numpy as np\n",
    "print_lst = []\n",
    "for key, value in result.items():\n",
    "    nd_array = np.array(value)\n",
    "    if nd_array.ndim >= 2:\n",
    "        for item in value:\n",
    "            item.insert(0, VerHeaderNm[key].kor())\n",
    "            print_lst.append(item)\n",
    "    else:\n",
    "        value.insert(0, VerHeaderNm[key].kor())\n",
    "        print_lst.append(value)\n",
    "\n",
    "print_lst"
   ],
   "metadata": {
    "collapsed": false,
    "pycharm": {
     "name": "#%%\n"
    }
   }
  },
  {
   "cell_type": "code",
   "execution_count": 2,
   "outputs": [
    {
     "data": {
      "text/plain": "5"
     },
     "execution_count": 2,
     "metadata": {},
     "output_type": "execute_result"
    }
   ],
   "source": [
    "lst = [['제품명', '친환경 방울토마토', '친환경 방울토마토', '100%', '승인'], ['중량(수량)', '600g', '600g', '100%', '승인'], ['바코드', '2500000279935', '2500000279935', '100%', '승인'], ['인증마크', '유기농', '1', '100%', '승인'], ['인증정보', '12100409 김영대', '12100489 김영대', '94%', '승인']]\n",
    "len(lst)"
   ],
   "metadata": {
    "collapsed": false,
    "pycharm": {
     "name": "#%%\n"
    }
   }
  }
 ],
 "metadata": {
  "kernelspec": {
   "display_name": "Python 3",
   "language": "python",
   "name": "python3"
  },
  "language_info": {
   "codemirror_mode": {
    "name": "ipython",
    "version": 2
   },
   "file_extension": ".py",
   "mimetype": "text/x-python",
   "name": "python",
   "nbconvert_exporter": "python",
   "pygments_lexer": "ipython2",
   "version": "2.7.6"
  }
 },
 "nbformat": 4,
 "nbformat_minor": 0
}