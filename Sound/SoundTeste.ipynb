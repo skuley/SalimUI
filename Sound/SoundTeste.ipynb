{
 "cells": [
  {
   "cell_type": "code",
   "execution_count": 97,
   "outputs": [],
   "source": [
    "from enum import Enum, auto\n",
    "\n",
    "class Cumul_Count(Enum):\n",
    "    success_cs = \"합격\"\n",
    "    success_cu = \"합격(누적)\"\n",
    "    pass_cs = \"유보\"\n",
    "    pass_cu = auto()\n",
    "    fail_cs = auto()\n",
    "    fail_cu = auto()\n",
    "    total = auto()\n",
    "\n",
    "    def __str__(self):\n",
    "        return self.name\n",
    "    @staticmethod\n",
    "    def get_value(self):\n",
    "        return self.value"
   ],
   "metadata": {
    "collapsed": false,
    "pycharm": {
     "name": "#%%\n"
    }
   }
  },
  {
   "cell_type": "code",
   "execution_count": 101,
   "outputs": [],
   "source": [
    "final_result_dict = {\n",
    "    '합격': Cumul_Count.success_cs,\n",
    "    '유보': Cumul_Count.pass_cs,\n",
    "    '불합격': Cumul_Count.fail_cs,\n",
    "}\n",
    "\n",
    "class PdCumul:\n",
    "    def __init__(self, pd_name):\n",
    "        self.pd_name = pd_name\n",
    "        self.cu_dict = {}\n",
    "        self.cs_dict = {}\n",
    "        self.prior_target = ''\n",
    "        for item in list(Cumul_Count):\n",
    "            if '_cs' in str(item):\n",
    "                self.cs_dict[str(item)] = 0\n",
    "            else:\n",
    "                self.cu_dict[str(item)] = 0\n",
    "\n",
    "    def clear(self):\n",
    "        pass\n",
    "\n",
    "    def add(self, target):\n",
    "        target = str(target)\n",
    "        self.cs_dict[target] += 1\n",
    "        if self.prior_target != target:\n",
    "            self.prior_target = target\n",
    "            rest = [item for item in self.cs_dict.keys() if item != target]\n",
    "            for item in rest:\n",
    "                self.cs_dict[item] = 0\n",
    "        cumul_target = target.replace('_cs', '_cu')\n",
    "        self.cu_dict[cumul_target] += 1\n",
    "        self.cu_dict['total'] += 1\n",
    "        # self.add_cu()\n",
    "\n",
    "    def add_cu(self, target):\n",
    "        pass\n",
    "\n",
    "    def rslt_dict(self):\n",
    "        result = {}\n",
    "        result.update(self.cs_dict)\n",
    "        result.update(self.cu_dict)\n",
    "        return result\n",
    "\n",
    "    def pd_name(self):\n",
    "        return self.pd_name"
   ],
   "metadata": {
    "collapsed": false,
    "pycharm": {
     "name": "#%%\n"
    }
   }
  },
  {
   "cell_type": "code",
   "execution_count": null,
   "outputs": [],
   "source": [
    "\n",
    "\n",
    "\n",
    "\n",
    "\n",
    "# A = PdCumul('sample')\n",
    "# A.add_cs('success_cs')\n",
    "# A.add_cs('success_cs')\n",
    "# A.add_cs('success_cs')\n",
    "# A.add_cs('success_cs')\n",
    "# print(A.prior_target)\n",
    "# A.add_cs('fail_cs')\n",
    "# print(A.prior_target)\n",
    "# A.result_dict()\n",
    "# final_result_dict['합격(연속)']\n",
    "A = PdCumul('sample')\n",
    "A.add_cs(final_result_dict['합격'])\n",
    "A.add_cs(final_result_dict['합격'])\n",
    "A.add_cs(final_result_dict['합격'])\n",
    "A.add_cs(final_result_dict['불합격'])\n",
    "A.add_cs(final_result_dict['불합격'])\n",
    "A.add_cs(final_result_dict['불합격'])\n",
    "A.add_cs(final_result_dict['유보'])\n",
    "A.result_dict()"
   ],
   "metadata": {
    "collapsed": false,
    "pycharm": {
     "name": "#%%\n"
    }
   }
  },
  {
   "cell_type": "code",
   "execution_count": 110,
   "outputs": [
    {
     "data": {
      "text/plain": "{'success_cs': 2,\n 'pass_cs': 0,\n 'fail_cs': 0,\n 'success_cu': 2,\n 'pass_cu': 0,\n 'fail_cu': 0,\n 'total': 2}"
     },
     "execution_count": 110,
     "metadata": {},
     "output_type": "execute_result"
    }
   ],
   "source": [
    "A.add(final_result_dict['합격'])\n",
    "A.rslt_dict()"
   ],
   "metadata": {
    "collapsed": false,
    "pycharm": {
     "name": "#%%\n"
    }
   }
  },
  {
   "cell_type": "code",
   "execution_count": 105,
   "outputs": [
    {
     "data": {
      "text/plain": "{'success_cs': 0,\n 'pass_cs': 0,\n 'fail_cs': 0,\n 'success_cu': 0,\n 'pass_cu': 0,\n 'fail_cu': 0,\n 'total': 0}"
     },
     "execution_count": 105,
     "metadata": {},
     "output_type": "execute_result"
    }
   ],
   "source": [
    "rslt_collection = {}\n",
    "a_pd_name = 'sample'\n",
    "b_pd_name = 'sample1'\n",
    "rslt_collection[a_pd_name] = PdCumul(a_pd_name)\n",
    "rslt_collection[b_pd_name] = PdCumul(b_pd_name)\n",
    "rslt_collection[a_pd_name].rslt_dict()\n",
    "# rslt_collection[A.pd_name()] = A"
   ],
   "metadata": {
    "collapsed": false,
    "pycharm": {
     "name": "#%%\n"
    }
   }
  },
  {
   "cell_type": "code",
   "execution_count": 100,
   "outputs": [
    {
     "ename": "AttributeError",
     "evalue": "'PdCumul' object has no attribute 'product_name'",
     "output_type": "error",
     "traceback": [
      "\u001B[1;31m---------------------------------------------------------------------------\u001B[0m",
      "\u001B[1;31mAttributeError\u001B[0m                            Traceback (most recent call last)",
      "\u001B[1;32m~\\AppData\\Local\\Temp/ipykernel_12708/308219073.py\u001B[0m in \u001B[0;36m<module>\u001B[1;34m\u001B[0m\n\u001B[1;32m----> 1\u001B[1;33m \u001B[0mrslt_collection\u001B[0m\u001B[1;33m[\u001B[0m\u001B[0mA\u001B[0m\u001B[1;33m.\u001B[0m\u001B[0mproduct_name\u001B[0m\u001B[1;33m(\u001B[0m\u001B[1;33m)\u001B[0m\u001B[1;33m]\u001B[0m\u001B[1;33m.\u001B[0m\u001B[0madd_cs\u001B[0m\u001B[1;33m(\u001B[0m\u001B[0mfinal_result_dict\u001B[0m\u001B[1;33m[\u001B[0m\u001B[1;34m'합격'\u001B[0m\u001B[1;33m]\u001B[0m\u001B[1;33m)\u001B[0m\u001B[1;33m\u001B[0m\u001B[1;33m\u001B[0m\u001B[0m\n\u001B[0m\u001B[0;32m      2\u001B[0m \u001B[0mrslt_collection\u001B[0m\u001B[1;33m[\u001B[0m\u001B[0mA\u001B[0m\u001B[1;33m.\u001B[0m\u001B[0mproduct_name\u001B[0m\u001B[1;33m(\u001B[0m\u001B[1;33m)\u001B[0m\u001B[1;33m]\u001B[0m\u001B[1;33m.\u001B[0m\u001B[0mresult_dict\u001B[0m\u001B[1;33m(\u001B[0m\u001B[1;33m)\u001B[0m\u001B[1;33m\u001B[0m\u001B[1;33m\u001B[0m\u001B[0m\n",
      "\u001B[1;31mAttributeError\u001B[0m: 'PdCumul' object has no attribute 'product_name'"
     ]
    }
   ],
   "source": [
    "rslt_collection[A.product_name()].add_cs(final_result_dict['합격'])\n",
    "rslt_collection[A.product_name()].result_dict()"
   ],
   "metadata": {
    "collapsed": false,
    "pycharm": {
     "name": "#%%\n"
    }
   }
  },
  {
   "cell_type": "code",
   "execution_count": 106,
   "outputs": [
    {
     "data": {
      "text/plain": "'합격(연속)'"
     },
     "execution_count": 106,
     "metadata": {},
     "output_type": "execute_result"
    }
   ],
   "source": [
    "Cumul_Count.get_value(Cumul_Count.success_cs)"
   ],
   "metadata": {
    "collapsed": false,
    "pycharm": {
     "name": "#%%\n"
    }
   }
  }
 ],
 "metadata": {
  "kernelspec": {
   "display_name": "Python 3",
   "language": "python",
   "name": "python3"
  },
  "language_info": {
   "codemirror_mode": {
    "name": "ipython",
    "version": 2
   },
   "file_extension": ".py",
   "mimetype": "text/x-python",
   "name": "python",
   "nbconvert_exporter": "python",
   "pygments_lexer": "ipython2",
   "version": "2.7.6"
  }
 },
 "nbformat": 4,
 "nbformat_minor": 0
}