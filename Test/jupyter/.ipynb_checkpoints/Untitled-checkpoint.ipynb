{
 "cells": [
  {
   "cell_type": "code",
   "execution_count": 7,
   "outputs": [],
   "source": [
    "import numpy as np\n",
    "\n",
    "result = {'barcode': '2500000279935', 'cert_mark': ['organic'], 'cert_result': {'12100489': {'in_db': True, 'mark_status': 'success', 'name': {'db': '김영대', 'ocr_rslt': '김영대', 'score': 1.0}, 'number': {'db': '12100489', 'ocr_rslt': '12100409', 'score': 0.875}}}, 'date_time': '02/15/2022, 15:35:24', 'label_id': 157, 'label_loc': '/mnt/vitasoft/salim/detected_labels/2500000279935/0157.png', 'product_name': {'name': '친환경 방울토마토', 'status': 'success'}, 'rot_angle': 180, 'weight': {'db': '600g', 'ocr_rslt': '600g', 'score': 1.0, 'status': 'success'}}\n",
    "\n",
    "result1 = {'barcode': '2500000279935', 'cert_mark': ['organic'], 'cert_result': {'04829818': {'in_db': False, 'mark_status': 'success', 'number': {'db': '04829818', 'ocr_rslt': '04829818'}}, '12100489': {'in_db': True, 'mark_status': 'success', 'name': {'db': '김영대', 'ocr_rslt': '김영대', 'score': 1.0}, 'number': {'db': '12100489', 'ocr_rslt': '12100489', 'score': 1.0}}}, 'date_time': '02/15/2022, 16:40:53', 'label_id': 562, 'label_loc': '/mnt/vitasoft/salim/detected_labels/2500000279935/0562.png', 'product_name': {'name': '친환경 방울토마토', 'status': 'success'}, 'rot_angle': 0, 'weight': {'db': '600g', 'ocr_rslt': '600g', 'score': 1.0, 'status': 'success'}}\n",
    "\n",
    "result2 = {'barcode': '2500000145629', 'cert_mark': ['organic'], 'cert_result': {}, 'date_time': '02/17/2022, 15:53:04', 'label_id': 142, 'label_loc': '/mnt/vitasoft/salim/detected_labels/2500000145629/0142.png', 'product_name': {'name': '유기농 표고버섯', 'status': 'success'}, 'rot_angle': 90, 'weight': {'db': '300g', 'ocr_rslt': '300g', 'score': 1.0, 'status': 'success'}}\n",
    "\n",
    "mark_kor = {\n",
    "    'organic': '유기농',\n",
    "    'nonpesticide': '무농약',\n",
    "    'gap': 'GAP(우수관리인증)',\n",
    "    'antibiotic': '무항생제',\n",
    "    'animal': '동물복지',\n",
    "    'haccp': '안전관리인증HACCP',\n",
    "    'pgi': '지리적표시',\n",
    "    'traditional': '전통식품',\n",
    "    'master': '식품명인',\n",
    "    'processed': '가공식품',\n",
    "    'carbon': '저탄소(LOW CARBON)'\n",
    "}\n",
    "\n",
    "def inspection_result(result):\n",
    "    return_dict = {'product_name': [], 'weight': [], 'barcode': [], 'cert_mark': [], 'cert_result': []}\n",
    "    for key, value in result.items():\n",
    "        cert_third_num = []\n",
    "        if key == 'product_name':\n",
    "            return_dict[key].append(value['name'])\n",
    "            return_dict[key].append(value['name'])\n",
    "            if value['status'] == 'success':\n",
    "                return_dict[key].append('100%')\n",
    "                return_dict[key].append('승인')\n",
    "\n",
    "        if key == 'weight':\n",
    "            return_dict[key].append(value['ocr_rslt'])\n",
    "            return_dict[key].append(value['db'])\n",
    "            return_dict[key].append(f\"{round(value['score'] * 100)}%\")\n",
    "            return_dict[key].append('승인')\n",
    "\n",
    "        if key == 'barcode':\n",
    "            return_dict[key].append(value)\n",
    "            return_dict[key].append(value)\n",
    "            return_dict[key].append('100%')\n",
    "            return_dict[key].append('승인')\n",
    "\n",
    "        if key == 'cert_mark':\n",
    "            if value:\n",
    "                for mark in value:\n",
    "                    mark_lst = []\n",
    "                    mark_lst.append(mark_kor[mark])\n",
    "                    cert_numbers = [item['number']['ocr_rslt'] for item in result['cert_result'].values()]\n",
    "                    mark_lst.append(', '.join([number[2] for number in cert_numbers]))\n",
    "                    mark_status = [number['mark_status'] for number in result['cert_result'].values()]\n",
    "                    count = 0\n",
    "                    for status in mark_status:\n",
    "                        if 'success' == status:\n",
    "                            count += 1\n",
    "                    if len(mark_status) > 0:\n",
    "                        raw_score = count / len(mark_status)\n",
    "                    else:\n",
    "                        raw_score = 0.0\n",
    "                    score = f\"{round(raw_score * 100)}%\"\n",
    "                    mark_lst.append(score)\n",
    "\n",
    "                    if count == 2 and raw_score >= 0.9:\n",
    "                        mark_lst.append('승인')\n",
    "                    elif 'fail' in mark_status:\n",
    "                        mark_lst.append('오류')\n",
    "                    else:\n",
    "                        mark_lst.append('매칭실패')\n",
    "                    return_dict[key].append(mark_lst)\n",
    "            else:\n",
    "                mark_lst = ['', '', '0.0']\n",
    "                return_dict[key].append(mark_lst)\n",
    "\n",
    "        if key == 'cert_result':\n",
    "            for num_key, num_value in value.items():\n",
    "                cert_lst = []\n",
    "                if num_value['in_db']:\n",
    "                    cert_lst.append(f\"{num_value['number']['ocr_rslt']} {num_value['name']['ocr_rslt']}\")\n",
    "                    cert_lst.append(f\"{num_value['number']['db']} {num_value['name']['db']}\")\n",
    "                    raw_score = (num_value['name']['score'] + num_value['number']['score']) / 2.0\n",
    "                    cert_lst.append(f\"{round(raw_score * 100)}%\")\n",
    "                    result = '오류'\n",
    "                    if raw_score >= 0.9:\n",
    "                        result = '승인'\n",
    "                    cert_lst.append(result)\n",
    "                else:\n",
    "                    name = ''\n",
    "                    number = ''\n",
    "                    if 'name' in num_value and 'number' in num_value:\n",
    "                        name = num_value['name']['ocr_rslt']\n",
    "                        number = num_value['number']['ocr_rslt']\n",
    "                    elif 'number' in num_value.keys():\n",
    "                        number = num_value['number']['ocr_rslt']\n",
    "                    elif 'name' in num_value.keys():\n",
    "                        name = num_value['name']['ocr_rslt']\n",
    "                    cert_lst.append(f\"{name} {number}\")\n",
    "                    cert_lst.append(\"매칭실패\")\n",
    "                    cert_lst.append('0%')\n",
    "                    cert_lst.append('매칭실패')\n",
    "                return_dict[key].append(cert_lst)\n",
    "\n",
    "    return return_dict"
   ],
   "metadata": {
    "collapsed": false,
    "pycharm": {
     "name": "#%%\n"
    }
   }
  },
  {
   "cell_type": "code",
   "execution_count": 23,
   "outputs": [
    {
     "name": "stdout",
     "output_type": "stream",
     "text": [
      "유기농 표고버섯\n"
     ]
    },
    {
     "data": {
      "text/plain": "255"
     },
     "execution_count": 23,
     "metadata": {},
     "output_type": "execute_result"
    }
   ],
   "source": [
    "from glob import glob\n",
    "import os\n",
    "result_dict = inspection_result(result2)\n",
    "print(result_dict['product_name'][1])\n",
    "root_path = 'A:/salim/detected_labels'\n",
    "len(glob(os.path.join(root_path, str(result_dict['barcode'][0]), '*.png')))"
   ],
   "metadata": {
    "collapsed": false,
    "pycharm": {
     "name": "#%%\n"
    }
   }
  },
  {
   "cell_type": "code",
   "execution_count": 2,
   "outputs": [
    {
     "data": {
      "text/plain": "{'product_name': ['친환경 방울토마토', '친환경 방울토마토', '100%', '승인'],\n 'weight': ['600g', '600g', '100%', '승인'],\n 'barcode': ['2500000279935', '2500000279935', '100%', '승인'],\n 'cert_mark': [['유기농', '8, 1', '100%', '승인']],\n 'cert_result': [[' 04829818', '조회 실패', '0%', '매칭실패'],\n  ['12100489 김영대', '12100489 김영대', '100%', '승인']]}"
     },
     "execution_count": 2,
     "metadata": {},
     "output_type": "execute_result"
    }
   ],
   "source": [
    "a = {'product_name': ['친환경 방울토마토', '친환경 방울토마토', '100%', '승인'], 'weight': ['600g', '600g', '100%', '승인'], 'barcode': ['2500000279935', '2500000279935', '100%', '승인'], 'cert_mark': [['유기농', '8, 1', '100%', '승인']], 'cert_result': [[' 04829818', '조회 실패', '0%', '매칭실패'], ['12100489 김영대', '12100489 김영대', '100%', '승인']]}\n",
    "a"
   ],
   "metadata": {
    "collapsed": false,
    "pycharm": {
     "name": "#%%\n"
    }
   }
  },
  {
   "cell_type": "code",
   "execution_count": 46,
   "outputs": [
    {
     "ename": "TypeError",
     "evalue": "isna() takes 1 positional argument but 2 were given",
     "output_type": "error",
     "traceback": [
      "\u001B[1;31m---------------------------------------------------------------------------\u001B[0m",
      "\u001B[1;31mTypeError\u001B[0m                                 Traceback (most recent call last)",
      "\u001B[1;32m~\\AppData\\Local\\Temp/ipykernel_10400/4184657082.py\u001B[0m in \u001B[0;36m<module>\u001B[1;34m\u001B[0m\n\u001B[0;32m      1\u001B[0m \u001B[1;32mimport\u001B[0m \u001B[0mpandas\u001B[0m \u001B[1;32mas\u001B[0m \u001B[0mpd\u001B[0m\u001B[1;33m\u001B[0m\u001B[1;33m\u001B[0m\u001B[0m\n\u001B[1;32m----> 2\u001B[1;33m \u001B[0mdf\u001B[0m \u001B[1;33m=\u001B[0m \u001B[0mpd\u001B[0m\u001B[1;33m.\u001B[0m\u001B[0mread_excel\u001B[0m\u001B[1;33m(\u001B[0m\u001B[1;34m'../../Database/제품등록정보20211015.xlsx'\u001B[0m\u001B[1;33m)\u001B[0m\u001B[1;33m.\u001B[0m\u001B[0misna\u001B[0m\u001B[1;33m(\u001B[0m\u001B[1;34m''\u001B[0m\u001B[1;33m)\u001B[0m\u001B[1;33m\u001B[0m\u001B[1;33m\u001B[0m\u001B[0m\n\u001B[0m\u001B[0;32m      3\u001B[0m \u001B[0mdf\u001B[0m\u001B[1;33m[\u001B[0m\u001B[0mdf\u001B[0m\u001B[1;33m[\u001B[0m\u001B[1;34m'라벨제품명'\u001B[0m\u001B[1;33m]\u001B[0m\u001B[1;33m.\u001B[0m\u001B[0mstr\u001B[0m\u001B[1;33m.\u001B[0m\u001B[0mcontains\u001B[0m\u001B[1;33m(\u001B[0m\u001B[1;34m'운영중단'\u001B[0m\u001B[1;33m)\u001B[0m \u001B[1;33m==\u001B[0m \u001B[1;32mFalse\u001B[0m\u001B[1;33m]\u001B[0m\u001B[1;33m\u001B[0m\u001B[1;33m\u001B[0m\u001B[0m\n",
      "\u001B[1;31mTypeError\u001B[0m: isna() takes 1 positional argument but 2 were given"
     ]
    }
   ],
   "source": [
    "[{'center': [3342, 515], 'label_id': 39, 'label_loc': '/mnt/vitasoft/salim/detected_labels/unrecognized/0039.png', 'detected_mark': ['organic'], 'barcode_result': {'status': 'barcode_not_found'}, 'producer_result': {'12100779': {'in_db': False, 'number': {'db': '12100779', 'ocr_rslt': '12100779'}, 'mark_status': 'success'}}, 'rot_angle': 90}]"
   ],
   "metadata": {
    "collapsed": false,
    "pycharm": {
     "name": "#%%\n"
    }
   }
  },
  {
   "cell_type": "code",
   "execution_count": 6,
   "outputs": [],
   "source": [
    "lst = [{'center': [2851, 677], 'subject': ['친환경 방울토마토', '유기농 방울토마토'], 'weight': '600', 'unit': 'g', 'barcode': '2500000279935', 'label_id': 27, 'label_loc': '/mnt/vitasoft/salim/detected_labels/2500000279935/0027.png', 'detected_mark': ['organic'], 'barcode_result': {'status': 'success', 'subject': {'status': 'success', 'name': '친환경 방울토마토'}, 'weight': {'db': '600g', 'ocr_rslt': '600g', 'score': 1.0, 'status': 'success'}}, 'producer_result': {'12100489': {'in_db': True, 'name': {'db': '김영대', 'ocr_rslt': '김영대', 'score': 1.0}, 'number': {'db': '12100489', 'ocr_rslt': '12100489', 'score': 1.0}, 'mark_status': 'success'}}, 'rot_angle': 270}]"
   ],
   "metadata": {
    "collapsed": false,
    "pycharm": {
     "name": "#%%\n"
    }
   }
  },
  {
   "cell_type": "code",
   "execution_count": 22,
   "outputs": [],
   "source": [
    "import pandas as pd\n",
    "from enum import Enum\n",
    "\n",
    "class Keywords(Enum):\n",
    "    product_name = '제품명'\n",
    "    weight = '중량(수량)'\n",
    "    barcode = '바코드'\n",
    "    cert_mark = '인증마크'\n",
    "    cert_result = '인증정보'\n",
    "    inspect = '검사'\n",
    "    pass_inspect = 'pass'\n",
    "\n",
    "    def kor(self):\n",
    "        return self.value\n",
    "\n",
    "    def eng(self):\n",
    "        return self.name\n",
    "\n",
    "\n",
    "class Db():\n",
    "    def __init__(self):\n",
    "        self.df = pd.read_excel('../../Database/제품등록정보20211015.xlsx')\n",
    "        self.df = self.df[self.df['라벨제품명'].str.contains('운영중단') == False]\n",
    "        self.df = self.df.fillna('')\n",
    "\n",
    "    def get_product_names(self):\n",
    "        lst = ['라벨제품명', '중량(수량)', '단위']\n",
    "        df = self.df[lst].values.tolist()\n",
    "        product_names = []\n",
    "        for idx in df:\n",
    "            product_names.append(''.join([str(word) for word in idx]))\n",
    "        return product_names\n",
    "\n",
    "    def get_product_name_by_barcode(self, barcode):\n",
    "        df = self.df\n",
    "        df = df[df['바코드'].astype(float) == barcode]\n",
    "        lst = ['라벨제품명', '중량(수량)', '단위']\n",
    "        df = df[lst].values.tolist()\n",
    "        return ''.join([str(word) for word in df[0]])\n",
    "\n",
    "    def get_product_nick_names(self):\n",
    "        nick_names = list(self.df['라벨제품명별칭'])\n",
    "        return nick_names\n",
    "\n",
    "    def get_product_barcodes(self):\n",
    "        barcodes = list(self.df['바코드'])\n",
    "        return barcodes\n",
    "\n",
    "    def get_product_inspections(self):\n",
    "        lst = ['제품명검사','바코드검사', '중량(입수)검사', '인증마크검사', '인증정보검사']\n",
    "        inspections = self.df[lst]\n",
    "        # inspections = inspections.replace('검사', 'O')\n",
    "        # inspections = inspections.replace('pass', 'X')\n",
    "        inspections_lst = inspections.values.tolist()\n",
    "        barcodes = self.get_product_barcodes()\n",
    "        check_dict = {}\n",
    "        lst = ['제품명', '중량(수량)', '바코드', '인증마크', '인증정보']\n",
    "        for idx, item in enumerate(inspections_lst):\n",
    "            inspection_dict = {}\n",
    "            for value_idx, value in enumerate(item):\n",
    "                inspection_dict[lst[value_idx]] = value\n",
    "            check_dict[barcodes[idx]] = inspection_dict\n",
    "        return check_dict\n",
    "\n",
    "    def product_inspection_result(self):\n",
    "        product_names = self.get_product_names()\n",
    "        result_dict = {}\n",
    "        for product_name in product_names:\n",
    "            count = {'누적불합격': 0, '연속유보': 0, '총인식수': 0}\n",
    "            result_dict[product_name] = count\n",
    "        return result_dict"
   ],
   "metadata": {
    "collapsed": false,
    "pycharm": {
     "name": "#%%\n"
    }
   }
  },
  {
   "cell_type": "code",
   "execution_count": 24,
   "outputs": [
    {
     "data": {
      "text/plain": "'검사'"
     },
     "execution_count": 24,
     "metadata": {},
     "output_type": "execute_result"
    }
   ],
   "source": [
    "db = Db()\n",
    "aaa = db.get_product_inspections()[2500000082634]\n",
    "aaa[Keywords.product_name.kor()]"
   ],
   "metadata": {
    "collapsed": false,
    "pycharm": {
     "name": "#%%\n"
    }
   }
  },
  {
   "cell_type": "code",
   "execution_count": 226,
   "outputs": [
    {
     "data": {
      "text/plain": "'친환경 방울토마토600g'"
     },
     "execution_count": 226,
     "metadata": {},
     "output_type": "execute_result"
    }
   ],
   "source": [
    "db.get_product_names()\n",
    "db.get_product_name_by_barcode(2500000279935)"
   ],
   "metadata": {
    "collapsed": false,
    "pycharm": {
     "name": "#%%\n"
    }
   }
  },
  {
   "cell_type": "code",
   "execution_count": 15,
   "outputs": [],
   "source": [
    "from enum import Enum\n",
    "class Keywords(Enum):\n",
    "    # 검사대상\n",
    "    product_name = '제품명'\n",
    "    weight = '중량(수량)'\n",
    "    barcode = '바코드'\n",
    "    cert_mark = '인증마크'\n",
    "    cert_result = '인증정보'\n",
    "\n",
    "    # 검사 / pass\n",
    "    inspect = '검사'\n",
    "    pass_inspect = 'pass'\n",
    "\n",
    "    # 인증마크\n",
    "    organic = '유기농'\n",
    "    nonpesticide = '무농약'\n",
    "    gap = 'GAP(우수관리인증)'\n",
    "    antibiotic = '무항생제'\n",
    "    animal = '동물복지'\n",
    "    haccp = '안전관리인증HACCP'\n",
    "    pgi = '지리적표시'\n",
    "    traditional = '전통식품'\n",
    "    master = '식품명인'\n",
    "    processed = '가공식품'\n",
    "    carbon = '저탄소(LOW CARBON)'\n",
    "\n",
    "    def kor(self):\n",
    "        return self.value\n",
    "\n",
    "    def eng(self):\n",
    "        return self.name\n",
    "\n",
    "    def row_titles(self):\n",
    "        return [self.product_name.value, self.weight.value, self.barcode.value, self.cert_mark.value, self.cert_result.value]"
   ],
   "metadata": {
    "collapsed": false,
    "pycharm": {
     "name": "#%%\n"
    }
   }
  },
  {
   "cell_type": "code",
   "execution_count": 82,
   "outputs": [
    {
     "name": "stdout",
     "output_type": "stream",
     "text": [
      "yes 5\n"
     ]
    }
   ],
   "source": [
    "danger = 5\n",
    "error = 10\n",
    "input = 5\n",
    "if input % danger == 0 or input % error == 0:\n",
    "    print('yes', input)\n",
    "\n",
    "else:\n",
    "    print('no')\n",
    "    print(input%danger, input%error)"
   ],
   "metadata": {
    "collapsed": false,
    "pycharm": {
     "name": "#%%\n"
    }
   }
  },
  {
   "cell_type": "code",
   "execution_count": 45,
   "outputs": [
    {
     "data": {
      "text/plain": "5"
     },
     "execution_count": 45,
     "metadata": {},
     "output_type": "execute_result"
    }
   ],
   "source": [],
   "metadata": {
    "collapsed": false,
    "pycharm": {
     "name": "#%%\n"
    }
   }
  }
 ],
 "metadata": {
  "kernelspec": {
   "display_name": "Python 3 (ipykernel)",
   "language": "python",
   "name": "python3"
  },
  "language_info": {
   "codemirror_mode": {
    "name": "ipython",
    "version": 3
   },
   "file_extension": ".py",
   "mimetype": "text/x-python",
   "name": "python",
   "nbconvert_exporter": "python",
   "pygments_lexer": "ipython3",
   "version": "3.9.8"
  }
 },
 "nbformat": 4,
 "nbformat_minor": 5
}