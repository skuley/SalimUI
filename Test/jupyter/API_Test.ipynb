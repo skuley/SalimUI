{
 "cells": [
  {
   "cell_type": "code",
   "execution_count": 1,
   "metadata": {
    "collapsed": true
   },
   "outputs": [],
   "source": [
    "datas = []"
   ]
  },
  {
   "cell_type": "code",
   "execution_count": 2,
   "outputs": [
    {
     "ename": "IndexError",
     "evalue": "list index out of range",
     "output_type": "error",
     "traceback": [
      "\u001B[1;31m---------------------------------------------------------------------------\u001B[0m",
      "\u001B[1;31mIndexError\u001B[0m                                Traceback (most recent call last)",
      "\u001B[1;32m~\\AppData\\Local\\Temp/ipykernel_22028/3067728356.py\u001B[0m in \u001B[0;36m<module>\u001B[1;34m\u001B[0m\n\u001B[0;32m      7\u001B[0m \u001B[1;32mif\u001B[0m \u001B[0mlen\u001B[0m\u001B[1;33m(\u001B[0m\u001B[0mdata_key_length\u001B[0m\u001B[1;33m)\u001B[0m \u001B[1;33m>\u001B[0m \u001B[1;36m1\u001B[0m\u001B[1;33m:\u001B[0m\u001B[1;33m\u001B[0m\u001B[1;33m\u001B[0m\u001B[0m\n\u001B[0;32m      8\u001B[0m     \u001B[0mselected_idx\u001B[0m \u001B[1;33m=\u001B[0m \u001B[0mdata_key_length\u001B[0m\u001B[1;33m.\u001B[0m\u001B[0mindex\u001B[0m\u001B[1;33m(\u001B[0m\u001B[0mmax\u001B[0m\u001B[1;33m(\u001B[0m\u001B[0mdata_key_length\u001B[0m\u001B[1;33m)\u001B[0m\u001B[1;33m)\u001B[0m\u001B[1;33m\u001B[0m\u001B[1;33m\u001B[0m\u001B[0m\n\u001B[1;32m----> 9\u001B[1;33m \u001B[0mbarcode_dir\u001B[0m \u001B[1;33m=\u001B[0m \u001B[0mdatas\u001B[0m\u001B[1;33m[\u001B[0m\u001B[0mselected_idx\u001B[0m\u001B[1;33m]\u001B[0m\u001B[1;33m.\u001B[0m\u001B[0mget\u001B[0m\u001B[1;33m(\u001B[0m\u001B[1;34m\"barcode\"\u001B[0m\u001B[1;33m,\u001B[0m \u001B[1;34m'unrecognized'\u001B[0m\u001B[1;33m)\u001B[0m\u001B[1;33m\u001B[0m\u001B[1;33m\u001B[0m\u001B[0m\n\u001B[0m\u001B[0;32m     10\u001B[0m \u001B[0mresult_file\u001B[0m \u001B[1;33m=\u001B[0m \u001B[1;34mf'./Image/ocr/{barcode_dir}/result.json'\u001B[0m\u001B[1;33m\u001B[0m\u001B[1;33m\u001B[0m\u001B[0m\n\u001B[0;32m     11\u001B[0m \u001B[0mnow\u001B[0m \u001B[1;33m=\u001B[0m \u001B[0mdatetime\u001B[0m\u001B[1;33m.\u001B[0m\u001B[0mnow\u001B[0m\u001B[1;33m(\u001B[0m\u001B[1;33m)\u001B[0m\u001B[1;33m\u001B[0m\u001B[1;33m\u001B[0m\u001B[0m\n",
      "\u001B[1;31mIndexError\u001B[0m: list index out of range"
     ]
    }
   ],
   "source": [
    "from datetime import datetime\n",
    "import os\n",
    "import json\n",
    "\n",
    "data_key_length = [len(data.keys()) for data in datas]\n",
    "selected_idx = 0\n",
    "if len(data_key_length) > 1:\n",
    "    selected_idx = data_key_length.index(max(data_key_length))\n",
    "barcode_dir = datas[selected_idx].get(\"barcode\", 'unrecognized')\n",
    "result_file = f'./Image/ocr/{barcode_dir}/result.json'\n",
    "now = datetime.now()\n",
    "result = {'date_time': now.strftime(\"%m/%d/%Y, %H:%M:%S\"),\n",
    "          'barcode': barcode_dir,\n",
    "          'label_id': datas[selected_idx]['label_id'],\n",
    "          'label_loc': datas[selected_idx]['label_loc'],\n",
    "          'product_name': datas[selected_idx]['barcode_result'].get('subject', 'unrecognized'),\n",
    "          'weight': datas[selected_idx]['barcode_result'].get('weight', ''),\n",
    "          'cert_mark': datas[selected_idx]['detected_mark'],\n",
    "          'cert_result': datas[selected_idx][\"producer_result\"],\n",
    "          'rot_angle': datas[selected_idx]['rot_angle']}\n",
    "# if os.path.isfile(result_file):\n",
    "#     ocr_result_lst = []\n",
    "#     with open(result_file, 'r', encoding='utf-8') as file:\n",
    "#         ocr_result_lst = json.load(file)\n",
    "#         new_ocr_result = result\n",
    "#\n",
    "#     if result['label_id'] > ocr_result_lst[-1]['label_id']:\n",
    "#         ocr_result_lst.append(new_ocr_result)\n",
    "#         with open(result_file, 'w+', encoding='utf-8') as file:\n",
    "#             ocr_result = json.dumps(ocr_result_lst)\n",
    "#             file.write(ocr_result)\n",
    "# else:\n",
    "#     with open(result_file, 'w', encoding='utf-8') as file:\n",
    "#         lst = []\n",
    "#         lst.append(result)\n",
    "#         ocr_result = json.dumps(lst)\n",
    "#         file.write(ocr_result)\n",
    "print(datas[selected_idx].get(\"barcode\", 'unrecognized'))\n",
    "print(result)"
   ],
   "metadata": {
    "collapsed": false,
    "pycharm": {
     "name": "#%%\n"
    }
   }
  }
 ],
 "metadata": {
  "kernelspec": {
   "display_name": "Python 3",
   "language": "python",
   "name": "python3"
  },
  "language_info": {
   "codemirror_mode": {
    "name": "ipython",
    "version": 2
   },
   "file_extension": ".py",
   "mimetype": "text/x-python",
   "name": "python",
   "nbconvert_exporter": "python",
   "pygments_lexer": "ipython2",
   "version": "2.7.6"
  }
 },
 "nbformat": 4,
 "nbformat_minor": 0
}