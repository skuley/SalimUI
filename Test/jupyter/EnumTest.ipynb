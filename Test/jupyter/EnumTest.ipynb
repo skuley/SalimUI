{
 "cells": [
  {
   "cell_type": "code",
   "execution_count": 28,
   "outputs": [],
   "source": [
    "from enum import Enum\n",
    "class Keywords(Enum):\n",
    "    # 검사대상\n",
    "    product_name = '제품명'\n",
    "    weight = '중량(수량)'\n",
    "    barcode = '바코드'\n",
    "    cert_mark = '인증마크'\n",
    "    cert_result = '인증정보'\n",
    "\n",
    "    # 검사 / pass\n",
    "    inspect = '검사'\n",
    "    pass_inspect = 'pass'\n",
    "\n",
    "    # 인증마크\n",
    "    organic = '유기농'\n",
    "    nonpesticide = '무농약'\n",
    "    gap = 'GAP(우수관리인증)'\n",
    "    antibiotic = '무항생제'\n",
    "    animal = '동물복지'\n",
    "    haccp = '안전관리인증HACCP'\n",
    "    pgi = '지리적표시'\n",
    "    traditional = '전통식품'\n",
    "    master = '식품명인'\n",
    "    processed = '가공식품'\n",
    "    carbon = '저탄소(LOW CARBON)'\n",
    "\n",
    "    # 연속 / 누적 검사 결과\n",
    "    success_cs = '합격(연속)'\n",
    "    success_cu = '합격(누적)'\n",
    "    fail_cs = '불합격(연속)'\n",
    "    fail_cu = '불합격(누적)'\n",
    "    pass_cs = '유보(연속)'\n",
    "    pass_cu = '유보(누적)'\n",
    "    total = '총'\n",
    "\n",
    "    def __str__(self):\n",
    "        return self.name\n",
    "\n",
    "    def kor(self):\n",
    "        return self.value\n",
    "\n",
    "    def eng(self):\n",
    "        return self.name\n",
    "\n",
    "    def insp_headers(self):\n",
    "        return [\n",
    "            self.product_name,\n",
    "            self.weight,\n",
    "            self.barcode,\n",
    "            self.cert_mark,\n",
    "            self.cert_result\n",
    "        ]\n",
    "\n",
    "    def error_headers(self):\n",
    "        return [\n",
    "            self.product_name,\n",
    "            self.success_cs,\n",
    "            self.fail_cs,\n",
    "            self.pass_cs,\n",
    "            self.success_cu,\n",
    "            self.fail_cu,\n",
    "            self.pass_cu,\n",
    "            self.total\n",
    "        ]"
   ],
   "metadata": {
    "collapsed": false,
    "pycharm": {
     "name": "#%%\n"
    }
   }
  },
  {
   "cell_type": "code",
   "execution_count": 30,
   "outputs": [
    {
     "name": "stdout",
     "output_type": "stream",
     "text": [
      "success_cs\n",
      "fail_cs\n",
      "pass_cs\n"
     ]
    }
   ],
   "source": [
    "for item in list(Keywords.error_headers(Keywords)):\n",
    "    if '_cs' in str(item):\n",
    "        print(str(item))"
   ],
   "metadata": {
    "collapsed": false,
    "pycharm": {
     "name": "#%%\n"
    }
   }
  },
  {
   "cell_type": "code",
   "execution_count": 31,
   "outputs": [],
   "source": [
    "class PdCumul:\n",
    "    def __init__(self, pd_name):\n",
    "        self.pd_name = pd_name\n",
    "        self.final_result_txt = {\n",
    "            '합격': Keywords.success_cs,\n",
    "            '유보': Keywords.pass_cs,\n",
    "            '불합격': Keywords.fail_cs\n",
    "        }\n",
    "        self.cu_dict = {}\n",
    "        self.cs_dict = {}\n",
    "        self.prior_target = ''\n",
    "        error_headers = Keywords.error_headers(Keywords)\n",
    "        for item in list(error_headers):\n",
    "            if '_cs' in str(item):\n",
    "                self.cs_dict[str(item)] = 0\n",
    "            else:\n",
    "                self.cu_dict[str(item)] = 0\n",
    "\n",
    "    def clear(self):\n",
    "        for key in self.cs_dict.keys():\n",
    "            self.cs_dict[key] = 0\n",
    "\n",
    "        for key in self.cu_dict.keys():\n",
    "            self.cu_dict[key] = 0\n",
    "\n",
    "    def add(self, target):\n",
    "        target = str(target)\n",
    "        self.cs_dict[target] += 1\n",
    "        if self.prior_target != target:\n",
    "            self.prior_target = target\n",
    "            rest = [item for item in self.cs_dict.keys() if item != target]\n",
    "            for item in rest:\n",
    "                self.cs_dict[item] = 0\n",
    "        cumul_target = target.replace('_cs', '_cu')\n",
    "        self.cu_dict[cumul_target] += 1\n",
    "        self.cu_dict['total'] += 1\n",
    "\n",
    "    def rslt_dict(self):\n",
    "        result = {}\n",
    "        result.update(self.cs_dict)\n",
    "        result.update(self.cu_dict)\n",
    "        return result\n",
    "\n",
    "    def product_name(self):\n",
    "        return self.pd_name"
   ],
   "metadata": {
    "collapsed": false,
    "pycharm": {
     "name": "#%%\n"
    }
   }
  },
  {
   "cell_type": "code",
   "execution_count": 36,
   "outputs": [
    {
     "data": {
      "text/plain": "{'success_cs': 1,\n 'fail_cs': 0,\n 'pass_cs': 0,\n 'product_name': 0,\n 'success_cu': 1,\n 'fail_cu': 0,\n 'pass_cu': 0,\n 'total': 1}"
     },
     "execution_count": 36,
     "metadata": {},
     "output_type": "execute_result"
    }
   ],
   "source": [
    "pd = PdCumul('유기농 방울토마토')\n",
    "pd.add(Keywords.success_cs)\n",
    "pd.rslt_dict()"
   ],
   "metadata": {
    "collapsed": false,
    "pycharm": {
     "name": "#%%\n"
    }
   }
  }
 ],
 "metadata": {
  "kernelspec": {
   "display_name": "Python 3",
   "language": "python",
   "name": "python3"
  },
  "language_info": {
   "codemirror_mode": {
    "name": "ipython",
    "version": 2
   },
   "file_extension": ".py",
   "mimetype": "text/x-python",
   "name": "python",
   "nbconvert_exporter": "python",
   "pygments_lexer": "ipython2",
   "version": "2.7.6"
  }
 },
 "nbformat": 4,
 "nbformat_minor": 0
}