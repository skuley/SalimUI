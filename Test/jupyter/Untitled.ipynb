{
 "cells": [
  {
   "cell_type": "code",
   "execution_count": 24,
   "outputs": [],
   "source": [
    "result = {'barcode': '2500000279935', 'cert_mark': ['organic'], 'cert_result': {'12100489': {'in_db': True, 'mark_status': 'success', 'name': {'db': '김영대', 'ocr_rslt': '김영대', 'score': 1.0}, 'number': {'db': '12100489', 'ocr_rslt': '12100409', 'score': 0.875}}}, 'date_time': '02/15/2022, 15:35:24', 'label_id': 157, 'label_loc': '/mnt/vitasoft/salim/detected_labels/2500000279935/0157.png', 'product_name': {'name': '친환경 방울토마토', 'status': 'success'}, 'rot_angle': 180, 'weight': {'db': '600g', 'ocr_rslt': '600g', 'score': 1.0, 'status': 'success'}}\n",
    "\n",
    "result1 = {'barcode': '2500000279935', 'cert_mark': ['organic'], 'cert_result': {'04829818': {'in_db': False, 'mark_status': 'success', 'number': {'db': '04829818', 'ocr_rslt': '04829818'}}, '12100489': {'in_db': True, 'mark_status': 'success', 'name': {'db': '김영대', 'ocr_rslt': '김영대', 'score': 1.0}, 'number': {'db': '12100489', 'ocr_rslt': '12100489', 'score': 1.0}}}, 'date_time': '02/15/2022, 16:40:53', 'label_id': 562, 'label_loc': '/mnt/vitasoft/salim/detected_labels/2500000279935/0562.png', 'product_name': {'name': '친환경 방울토마토', 'status': 'success'}, 'rot_angle': 0, 'weight': {'db': '600g', 'ocr_rslt': '600g', 'score': 1.0, 'status': 'success'}}\n",
    "\n",
    "result2 = {'barcode': '2500000279935', 'cert_mark': ['organic'], 'cert_result': {}, 'date_time': '02/16/2022, 17:00:02', 'label_id': 1405, 'label_loc': '/mnt/vitasoft/salim/detected_labels/2500000279935/1405.png', 'product_name': {'name': '친환경 방울토마토', 'status': 'success'}, 'rot_angle': 180, 'weight': {'db': '600g', 'ocr_rslt': '600g', 'score': 1.0, 'status': 'success'}}\n",
    "\n",
    "mark_kor = {\n",
    "    'organic': '유기농',\n",
    "    'nonpesticide': '무농약',\n",
    "    'gap': 'GAP(우수관리인증)',\n",
    "    'antibiotic': '무항생제',\n",
    "    'animal': '동물복지',\n",
    "    'haccp': '안전관리인증HACCP',\n",
    "    'pgi': '지리적표시',\n",
    "    'traditional': '전통식품',\n",
    "    'master': '식품명인',\n",
    "    'processed': '가공식품',\n",
    "    'carbon': '저탄소(LOW CARBON)'\n",
    "}\n",
    "\n",
    "def inspection_result(result):\n",
    "    product_name = []\n",
    "    weight = []\n",
    "    cert_marks = []\n",
    "    cert_results = []\n",
    "    barcode = []\n",
    "\n",
    "    for key, value in result.items():\n",
    "        cert_third_num = []\n",
    "        if key == 'product_name':\n",
    "            product_name.append(value['name'])\n",
    "            product_name.append(value['name'])\n",
    "            if value['status'] == 'success':\n",
    "                product_name.append('100%')\n",
    "                product_name.append('승인')\n",
    "\n",
    "        if key == 'weight':\n",
    "            weight.append(value['ocr_rslt'])\n",
    "            weight.append(value['db'])\n",
    "            weight.append(f\"{round(value['score']*100)}%\")\n",
    "            weight.append('승인')\n",
    "\n",
    "        if key == 'barcode':\n",
    "            barcode.append(value)\n",
    "            barcode.append(value)\n",
    "            barcode.append('100%')\n",
    "            barcode.append('승인')\n",
    "\n",
    "        if key == 'cert_mark':\n",
    "            for mark in value:\n",
    "                mark_lst = []\n",
    "                mark_lst.append(mark_kor[mark])\n",
    "                cert_numbers = [item['number']['ocr_rslt'] for item in result['cert_result'].values()]\n",
    "                mark_lst.append(', '.join([number[2] for number in cert_numbers]))\n",
    "                mark_status = [number['mark_status'] for number in result['cert_result'].values()]\n",
    "                count = 0\n",
    "                for status in mark_status:\n",
    "                    if 'success' == status:\n",
    "                        count += 1\n",
    "                raw_score = 0.0\n",
    "                if len(mark_status) > 0:\n",
    "                    raw_score = count / len(mark_status)\n",
    "\n",
    "                score = f\"{round(raw_score*100)}%\"\n",
    "                mark_lst.append(score)\n",
    "                if raw_score >= 0.9:\n",
    "                    mark_lst.append('승인')\n",
    "                cert_marks.append(mark_lst)\n",
    "\n",
    "        if key == 'cert_result':\n",
    "            for num_key, num_value in value.items():\n",
    "                cert_lst = []\n",
    "                if num_value['in_db']:\n",
    "                    cert_lst.append(f\"{num_value['number']['ocr_rslt']} {num_value['name']['ocr_rslt']}\")\n",
    "                    cert_lst.append(f\"{num_value['number']['db']} {num_value['name']['db']}\")\n",
    "                    raw_score = (num_value['name']['score'] + num_value['number']['score']) / 2.0\n",
    "                    cert_lst.append(f\"{round(raw_score)*100}%\")\n",
    "                    result = '오류'\n",
    "                    if raw_score >= 0.9:\n",
    "                        result = '승인'\n",
    "                    cert_lst.append(result)\n",
    "\n",
    "                else:\n",
    "                    name = ''\n",
    "                    number = ''\n",
    "                    if 'name' in num_value and 'number' in num_value:\n",
    "                        name = num_value['name']['ocr_rslt']\n",
    "                        number = num_value['number']['ocr_rslt']\n",
    "                    elif 'number' in num_value.keys():\n",
    "                        number = num_value['number']['ocr_rslt']\n",
    "                    elif 'name' in num_value.keys():\n",
    "                        name = num_value['name']['ocr_rslt']\n",
    "                    cert_lst.append(f\"{name}, {number}\")\n",
    "                    cert_lst.append(\"매칭실패\")\n",
    "                    cert_lst.append('0%')\n",
    "                    cert_lst.append('매칭실패')\n",
    "                cert_results.append(cert_lst)\n",
    "                # cert_results.append(info)\n",
    "\n",
    "    return {'product_name': product_name, 'weight': weight, 'barcode': barcode, 'cert_marks': cert_marks, 'cert_results': cert_results}"
   ],
   "metadata": {
    "collapsed": false,
    "pycharm": {
     "name": "#%%\n"
    }
   }
  },
  {
   "cell_type": "code",
   "execution_count": 25,
   "outputs": [
    {
     "data": {
      "text/plain": "{'product_name': ['친환경 방울토마토', '친환경 방울토마토', '100%', '승인'],\n 'weight': ['600g', '600g', '100%', '승인'],\n 'barcode': ['2500000279935', '2500000279935', '100%', '승인'],\n 'cert_marks': [['유기농', '8, 1', '100%', '승인']],\n 'cert_results': [[', 04829818', '매칭실패', '0%', '매칭실패'],\n  ['12100489 김영대', '12100489 김영대', '100%', '승인']]}"
     },
     "execution_count": 25,
     "metadata": {},
     "output_type": "execute_result"
    }
   ],
   "source": [
    "result_dict = inspection_result(result1)\n",
    "result_dict"
   ],
   "metadata": {
    "collapsed": false,
    "pycharm": {
     "name": "#%%\n"
    }
   }
  }
 ],
 "metadata": {
  "kernelspec": {
   "display_name": "Python 3 (ipykernel)",
   "language": "python",
   "name": "python3"
  },
  "language_info": {
   "codemirror_mode": {
    "name": "ipython",
    "version": 3
   },
   "file_extension": ".py",
   "mimetype": "text/x-python",
   "name": "python",
   "nbconvert_exporter": "python",
   "pygments_lexer": "ipython3",
   "version": "3.9.8"
  }
 },
 "nbformat": 4,
 "nbformat_minor": 5
}