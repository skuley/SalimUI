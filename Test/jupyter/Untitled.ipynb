{
 "cells": [
  {
   "cell_type": "code",
   "execution_count": 6,
   "outputs": [],
   "source": [
    "result = {'barcode': '2500000279935', 'cert_mark': ['organic'], 'cert_result': {'12100489': {'in_db': True, 'mark_status': 'success', 'name': {'db': '김영대', 'ocr_rslt': '김영대', 'score': 1.0}, 'number': {'db': '12100489', 'ocr_rslt': '12100409', 'score': 0.875}}}, 'date_time': '02/15/2022, 15:35:24', 'label_id': 157, 'label_loc': '/mnt/vitasoft/salim/detected_labels/2500000279935/0157.png', 'product_name': {'name': '친환경 방울토마토', 'status': 'success'}, 'rot_angle': 180, 'weight': {'db': '600g', 'ocr_rslt': '600g', 'score': 1.0, 'status': 'success'}}\n",
    "\n",
    "result1 = {'barcode': '2500000279935', 'cert_mark': ['organic'], 'cert_result': {'04829818': {'in_db': False, 'mark_status': 'success', 'number': {'db': '04829818', 'ocr_rslt': '04829818'}}, '12100489': {'in_db': True, 'mark_status': 'success', 'name': {'db': '김영대', 'ocr_rslt': '김영대', 'score': 1.0}, 'number': {'db': '12100489', 'ocr_rslt': '12100489', 'score': 1.0}}}, 'date_time': '02/15/2022, 16:40:53', 'label_id': 562, 'label_loc': '/mnt/vitasoft/salim/detected_labels/2500000279935/0562.png', 'product_name': {'name': '친환경 방울토마토', 'status': 'success'}, 'rot_angle': 0, 'weight': {'db': '600g', 'ocr_rslt': '600g', 'score': 1.0, 'status': 'success'}}\n",
    "\n",
    "result2 = {'barcode': '2500000145629', 'cert_mark': ['organic'], 'cert_result': {}, 'date_time': '02/17/2022, 15:53:04', 'label_id': 142, 'label_loc': '/mnt/vitasoft/salim/detected_labels/2500000145629/0142.png', 'product_name': {'name': '유기농 표고버섯', 'status': 'success'}, 'rot_angle': 90, 'weight': {'db': '300g', 'ocr_rslt': '300g', 'score': 1.0, 'status': 'success'}}\n",
    "\n",
    "mark_kor = {\n",
    "    'organic': '유기농',\n",
    "    'nonpesticide': '무농약',\n",
    "    'gap': 'GAP(우수관리인증)',\n",
    "    'antibiotic': '무항생제',\n",
    "    'animal': '동물복지',\n",
    "    'haccp': '안전관리인증HACCP',\n",
    "    'pgi': '지리적표시',\n",
    "    'traditional': '전통식품',\n",
    "    'master': '식품명인',\n",
    "    'processed': '가공식품',\n",
    "    'carbon': '저탄소(LOW CARBON)'\n",
    "}\n",
    "\n",
    "def inspection_result(result):\n",
    "    return_dict = {'product_name': [], 'weight': [], 'barcode': [], 'cert_mark': [], 'cert_result': []}\n",
    "    for key, value in result.items():\n",
    "        cert_third_num = []\n",
    "        if key == 'product_name':\n",
    "            return_dict[key].append(value['name'])\n",
    "            return_dict[key].append(value['name'])\n",
    "            if value['status'] == 'success':\n",
    "                return_dict[key].append('100%')\n",
    "                return_dict[key].append('승인')\n",
    "\n",
    "        if key == 'weight':\n",
    "            return_dict[key].append(value['ocr_rslt'])\n",
    "            return_dict[key].append(value['db'])\n",
    "            return_dict[key].append(f\"{round(value['score'] * 100)}%\")\n",
    "            return_dict[key].append('승인')\n",
    "\n",
    "        if key == 'barcode':\n",
    "            return_dict[key].append(value)\n",
    "            return_dict[key].append(value)\n",
    "            return_dict[key].append('100%')\n",
    "            return_dict[key].append('승인')\n",
    "\n",
    "        if key == 'cert_mark':\n",
    "            for mark in value:\n",
    "                mark_lst = []\n",
    "                mark_lst.append(mark_kor[mark])\n",
    "                cert_numbers = [item['number']['ocr_rslt'] for item in result['cert_result'].values()]\n",
    "                mark_lst.append(', '.join([number[2] for number in cert_numbers]))\n",
    "                mark_status = [number['mark_status'] for number in result['cert_result'].values()]\n",
    "                count = 0\n",
    "                for status in mark_status:\n",
    "                    if 'success' == status:\n",
    "                        count += 1\n",
    "                if len(mark_status) > 0:\n",
    "                    raw_score = count / len(mark_status)\n",
    "                else:\n",
    "                    raw_score = 0.0\n",
    "                score = f\"{round(raw_score * 100)}%\"\n",
    "                mark_lst.append(score)\n",
    "\n",
    "                if count == 2 and raw_score >= 0.9:\n",
    "                    mark_lst.append('승인')\n",
    "                elif 'fail' in mark_status:\n",
    "                    mark_lst.append('오류')\n",
    "                else:\n",
    "                    mark_lst.append('매칭실패')\n",
    "\n",
    "                return_dict[key].append(mark_lst)\n",
    "\n",
    "        if key == 'cert_result':\n",
    "            for num_key, num_value in value.items():\n",
    "                cert_lst = []\n",
    "                if num_value['in_db']:\n",
    "                    cert_lst.append(f\"{num_value['number']['ocr_rslt']} {num_value['name']['ocr_rslt']}\")\n",
    "                    cert_lst.append(f\"{num_value['number']['db']} {num_value['name']['db']}\")\n",
    "                    raw_score = (num_value['name']['score'] + num_value['number']['score']) / 2.0\n",
    "                    cert_lst.append(f\"{round(raw_score * 100)}%\")\n",
    "                    result = '오류'\n",
    "                    if raw_score >= 0.9:\n",
    "                        result = '승인'\n",
    "                    cert_lst.append(result)\n",
    "                else:\n",
    "                    name = ''\n",
    "                    number = ''\n",
    "                    if 'name' in num_value and 'number' in num_value:\n",
    "                        name = num_value['name']['ocr_rslt']\n",
    "                        number = num_value['number']['ocr_rslt']\n",
    "                    elif 'number' in num_value.keys():\n",
    "                        number = num_value['number']['ocr_rslt']\n",
    "                    elif 'name' in num_value.keys():\n",
    "                        name = num_value['name']['ocr_rslt']\n",
    "                    cert_lst.append(f\"{name} {number}\")\n",
    "                    cert_lst.append(\"매칭실패\")\n",
    "                    cert_lst.append('0%')\n",
    "                    cert_lst.append('매칭실패')\n",
    "                return_dict[key].append(cert_lst)\n",
    "\n",
    "    return return_dict"
   ],
   "metadata": {
    "collapsed": false,
    "pycharm": {
     "name": "#%%\n"
    }
   }
  },
  {
   "cell_type": "code",
   "execution_count": 23,
   "outputs": [
    {
     "name": "stdout",
     "output_type": "stream",
     "text": [
      "유기농 표고버섯\n"
     ]
    },
    {
     "data": {
      "text/plain": "255"
     },
     "execution_count": 23,
     "metadata": {},
     "output_type": "execute_result"
    }
   ],
   "source": [
    "from glob import glob\n",
    "import os\n",
    "result_dict = inspection_result(result2)\n",
    "print(result_dict['product_name'][1])\n",
    "root_path = 'A:/salim/detected_labels'\n",
    "len(glob(os.path.join(root_path, str(result_dict['barcode'][0]), '*.png')))"
   ],
   "metadata": {
    "collapsed": false,
    "pycharm": {
     "name": "#%%\n"
    }
   }
  },
  {
   "cell_type": "code",
   "execution_count": 40,
   "outputs": [
    {
     "data": {
      "text/plain": "['유기농 깐 밤',\n '유기농 표고버섯',\n '무농약완숙토마토',\n '친환경 캠벨 포도',\n '친환경 토마토',\n '친환경 백오이',\n '저탄소인증 샤인머스켓',\n '친환경 브로커리',\n '친환경 애호박',\n '유기농 새송이버섯',\n '유기농 팽이버섯',\n '친환경 대추방울토마토',\n '유기농 표고버섯',\n '친환경 방울토마토',\n '친환경 대추방울토마토',\n '무농약 갈색양송이',\n '에브리데이 방울토마토',\n '에브리데이 토마토',\n '국산 유기농 바나나',\n '친환경 토마토',\n '친환경 무화과',\n '저탄소 레드키위']"
     },
     "execution_count": 40,
     "metadata": {},
     "output_type": "execute_result"
    }
   ],
   "source": [
    "import pandas as pd\n",
    "class Db():\n",
    "    def __init__(self):\n",
    "        self.df = pd.read_excel('../../Database/제품등록정보20211015.xlsx')\n",
    "\n",
    "    def get_product_names(self):\n",
    "        lst = ['라벨제품명', '라벨제품명별칭']\n",
    "        product_names = list(self.df[\"라벨제품명\"])\n",
    "        product_names.remove('운영중단')\n",
    "        return product_names\n",
    "\n",
    "db = Db()\n",
    "db.get_product_names()"
   ],
   "metadata": {
    "collapsed": false,
    "pycharm": {
     "name": "#%%\n"
    }
   }
  }
 ],
 "metadata": {
  "kernelspec": {
   "display_name": "Python 3 (ipykernel)",
   "language": "python",
   "name": "python3"
  },
  "language_info": {
   "codemirror_mode": {
    "name": "ipython",
    "version": 3
   },
   "file_extension": ".py",
   "mimetype": "text/x-python",
   "name": "python",
   "nbconvert_exporter": "python",
   "pygments_lexer": "ipython3",
   "version": "3.9.8"
  }
 },
 "nbformat": 4,
 "nbformat_minor": 5
}