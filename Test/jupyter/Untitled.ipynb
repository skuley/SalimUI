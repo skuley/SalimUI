{
 "cells": [
  {
   "cell_type": "code",
   "execution_count": 7,
   "outputs": [],
   "source": [
    "import numpy as np\n",
    "\n",
    "result = {'barcode': '2500000279935', 'cert_mark': ['organic'], 'cert_result': {'12100489': {'in_db': True, 'mark_status': 'success', 'name': {'db': '김영대', 'ocr_rslt': '김영대', 'score': 1.0}, 'number': {'db': '12100489', 'ocr_rslt': '12100409', 'score': 0.875}}}, 'date_time': '02/15/2022, 15:35:24', 'label_id': 157, 'label_loc': '/mnt/vitasoft/salim/detected_labels/2500000279935/0157.png', 'product_name': {'name': '친환경 방울토마토', 'status': 'success'}, 'rot_angle': 180, 'weight': {'db': '600g', 'ocr_rslt': '600g', 'score': 1.0, 'status': 'success'}}\n",
    "\n",
    "result1 = {'barcode': '2500000279935', 'cert_mark': ['organic'], 'cert_result': {'04829818': {'in_db': False, 'mark_status': 'success', 'number': {'db': '04829818', 'ocr_rslt': '04829818'}}, '12100489': {'in_db': True, 'mark_status': 'success', 'name': {'db': '김영대', 'ocr_rslt': '김영대', 'score': 1.0}, 'number': {'db': '12100489', 'ocr_rslt': '12100489', 'score': 1.0}}}, 'date_time': '02/15/2022, 16:40:53', 'label_id': 562, 'label_loc': '/mnt/vitasoft/salim/detected_labels/2500000279935/0562.png', 'product_name': {'name': '친환경 방울토마토', 'status': 'success'}, 'rot_angle': 0, 'weight': {'db': '600g', 'ocr_rslt': '600g', 'score': 1.0, 'status': 'success'}}\n",
    "\n",
    "result2 = {'barcode': '2500000145629', 'cert_mark': ['organic'], 'cert_result': {}, 'date_time': '02/17/2022, 15:53:04', 'label_id': 142, 'label_loc': '/mnt/vitasoft/salim/detected_labels/2500000145629/0142.png', 'product_name': {'name': '유기농 표고버섯', 'status': 'success'}, 'rot_angle': 90, 'weight': {'db': '300g', 'ocr_rslt': '300g', 'score': 1.0, 'status': 'success'}}\n",
    "\n",
    "mark_kor = {\n",
    "    'organic': '유기농',\n",
    "    'nonpesticide': '무농약',\n",
    "    'gap': 'GAP(우수관리인증)',\n",
    "    'antibiotic': '무항생제',\n",
    "    'animal': '동물복지',\n",
    "    'haccp': '안전관리인증HACCP',\n",
    "    'pgi': '지리적표시',\n",
    "    'traditional': '전통식품',\n",
    "    'master': '식품명인',\n",
    "    'processed': '가공식품',\n",
    "    'carbon': '저탄소(LOW CARBON)'\n",
    "}\n",
    "\n",
    "def inspection_result(result):\n",
    "    return_dict = {'product_name': [], 'weight': [], 'barcode': [], 'cert_mark': [], 'cert_result': []}\n",
    "    for key, value in result.items():\n",
    "        cert_third_num = []\n",
    "        if key == 'product_name':\n",
    "            return_dict[key].append(value['name'])\n",
    "            return_dict[key].append(value['name'])\n",
    "            if value['status'] == 'success':\n",
    "                return_dict[key].append('100%')\n",
    "                return_dict[key].append('승인')\n",
    "\n",
    "        if key == 'weight':\n",
    "            return_dict[key].append(value['ocr_rslt'])\n",
    "            return_dict[key].append(value['db'])\n",
    "            return_dict[key].append(f\"{round(value['score'] * 100)}%\")\n",
    "            return_dict[key].append('승인')\n",
    "\n",
    "        if key == 'barcode':\n",
    "            return_dict[key].append(value)\n",
    "            return_dict[key].append(value)\n",
    "            return_dict[key].append('100%')\n",
    "            return_dict[key].append('승인')\n",
    "\n",
    "        if key == 'cert_mark':\n",
    "            if value:\n",
    "                for mark in value:\n",
    "                    mark_lst = []\n",
    "                    mark_lst.append(mark_kor[mark])\n",
    "                    cert_numbers = [item['number']['ocr_rslt'] for item in result['cert_result'].values()]\n",
    "                    mark_lst.append(', '.join([number[2] for number in cert_numbers]))\n",
    "                    mark_status = [number['mark_status'] for number in result['cert_result'].values()]\n",
    "                    count = 0\n",
    "                    for status in mark_status:\n",
    "                        if 'success' == status:\n",
    "                            count += 1\n",
    "                    if len(mark_status) > 0:\n",
    "                        raw_score = count / len(mark_status)\n",
    "                    else:\n",
    "                        raw_score = 0.0\n",
    "                    score = f\"{round(raw_score * 100)}%\"\n",
    "                    mark_lst.append(score)\n",
    "\n",
    "                    if count == 2 and raw_score >= 0.9:\n",
    "                        mark_lst.append('승인')\n",
    "                    elif 'fail' in mark_status:\n",
    "                        mark_lst.append('오류')\n",
    "                    else:\n",
    "                        mark_lst.append('매칭실패')\n",
    "                    return_dict[key].append(mark_lst)\n",
    "            else:\n",
    "                mark_lst = ['', '', '0.0']\n",
    "                return_dict[key].append(mark_lst)\n",
    "\n",
    "        if key == 'cert_result':\n",
    "            for num_key, num_value in value.items():\n",
    "                cert_lst = []\n",
    "                if num_value['in_db']:\n",
    "                    cert_lst.append(f\"{num_value['number']['ocr_rslt']} {num_value['name']['ocr_rslt']}\")\n",
    "                    cert_lst.append(f\"{num_value['number']['db']} {num_value['name']['db']}\")\n",
    "                    raw_score = (num_value['name']['score'] + num_value['number']['score']) / 2.0\n",
    "                    cert_lst.append(f\"{round(raw_score * 100)}%\")\n",
    "                    result = '오류'\n",
    "                    if raw_score >= 0.9:\n",
    "                        result = '승인'\n",
    "                    cert_lst.append(result)\n",
    "                else:\n",
    "                    name = ''\n",
    "                    number = ''\n",
    "                    if 'name' in num_value and 'number' in num_value:\n",
    "                        name = num_value['name']['ocr_rslt']\n",
    "                        number = num_value['number']['ocr_rslt']\n",
    "                    elif 'number' in num_value.keys():\n",
    "                        number = num_value['number']['ocr_rslt']\n",
    "                    elif 'name' in num_value.keys():\n",
    "                        name = num_value['name']['ocr_rslt']\n",
    "                    cert_lst.append(f\"{name} {number}\")\n",
    "                    cert_lst.append(\"매칭실패\")\n",
    "                    cert_lst.append('0%')\n",
    "                    cert_lst.append('매칭실패')\n",
    "                return_dict[key].append(cert_lst)\n",
    "\n",
    "    return return_dict"
   ],
   "metadata": {
    "collapsed": false,
    "pycharm": {
     "name": "#%%\n"
    }
   }
  },
  {
   "cell_type": "code",
   "execution_count": 23,
   "outputs": [
    {
     "name": "stdout",
     "output_type": "stream",
     "text": [
      "유기농 표고버섯\n"
     ]
    },
    {
     "data": {
      "text/plain": "255"
     },
     "execution_count": 23,
     "metadata": {},
     "output_type": "execute_result"
    }
   ],
   "source": [
    "from glob import glob\n",
    "import os\n",
    "result_dict = inspection_result(result2)\n",
    "print(result_dict['product_name'][1])\n",
    "root_path = 'A:/salim/detected_labels'\n",
    "len(glob(os.path.join(root_path, str(result_dict['barcode'][0]), '*.png')))"
   ],
   "metadata": {
    "collapsed": false,
    "pycharm": {
     "name": "#%%\n"
    }
   }
  },
  {
   "cell_type": "code",
   "execution_count": 46,
   "outputs": [
    {
     "ename": "TypeError",
     "evalue": "isna() takes 1 positional argument but 2 were given",
     "output_type": "error",
     "traceback": [
      "\u001B[1;31m---------------------------------------------------------------------------\u001B[0m",
      "\u001B[1;31mTypeError\u001B[0m                                 Traceback (most recent call last)",
      "\u001B[1;32m~\\AppData\\Local\\Temp/ipykernel_10400/4184657082.py\u001B[0m in \u001B[0;36m<module>\u001B[1;34m\u001B[0m\n\u001B[0;32m      1\u001B[0m \u001B[1;32mimport\u001B[0m \u001B[0mpandas\u001B[0m \u001B[1;32mas\u001B[0m \u001B[0mpd\u001B[0m\u001B[1;33m\u001B[0m\u001B[1;33m\u001B[0m\u001B[0m\n\u001B[1;32m----> 2\u001B[1;33m \u001B[0mdf\u001B[0m \u001B[1;33m=\u001B[0m \u001B[0mpd\u001B[0m\u001B[1;33m.\u001B[0m\u001B[0mread_excel\u001B[0m\u001B[1;33m(\u001B[0m\u001B[1;34m'../../Database/제품등록정보20211015.xlsx'\u001B[0m\u001B[1;33m)\u001B[0m\u001B[1;33m.\u001B[0m\u001B[0misna\u001B[0m\u001B[1;33m(\u001B[0m\u001B[1;34m''\u001B[0m\u001B[1;33m)\u001B[0m\u001B[1;33m\u001B[0m\u001B[1;33m\u001B[0m\u001B[0m\n\u001B[0m\u001B[0;32m      3\u001B[0m \u001B[0mdf\u001B[0m\u001B[1;33m[\u001B[0m\u001B[0mdf\u001B[0m\u001B[1;33m[\u001B[0m\u001B[1;34m'라벨제품명'\u001B[0m\u001B[1;33m]\u001B[0m\u001B[1;33m.\u001B[0m\u001B[0mstr\u001B[0m\u001B[1;33m.\u001B[0m\u001B[0mcontains\u001B[0m\u001B[1;33m(\u001B[0m\u001B[1;34m'운영중단'\u001B[0m\u001B[1;33m)\u001B[0m \u001B[1;33m==\u001B[0m \u001B[1;32mFalse\u001B[0m\u001B[1;33m]\u001B[0m\u001B[1;33m\u001B[0m\u001B[1;33m\u001B[0m\u001B[0m\n",
      "\u001B[1;31mTypeError\u001B[0m: isna() takes 1 positional argument but 2 were given"
     ]
    }
   ],
   "source": [
    "[{'center': [3342, 515], 'label_id': 39, 'label_loc': '/mnt/vitasoft/salim/detected_labels/unrecognized/0039.png', 'detected_mark': ['organic'], 'barcode_result': {'status': 'barcode_not_found'}, 'producer_result': {'12100779': {'in_db': False, 'number': {'db': '12100779', 'ocr_rslt': '12100779'}, 'mark_status': 'success'}}, 'rot_angle': 90}]"
   ],
   "metadata": {
    "collapsed": false,
    "pycharm": {
     "name": "#%%\n"
    }
   }
  },
  {
   "cell_type": "code",
   "execution_count": null,
   "outputs": [],
   "source": [],
   "metadata": {
    "collapsed": false,
    "pycharm": {
     "name": "#%%\n"
    }
   }
  },
  {
   "cell_type": "code",
   "execution_count": 214,
   "outputs": [],
   "source": [
    "import pandas as pd\n",
    "class Db():\n",
    "    def __init__(self):\n",
    "        self.df = pd.read_excel('../../Database/제품등록정보20211015.xlsx')\n",
    "        self.df = self.df[self.df['라벨제품명'].str.contains('운영중단') == False]\n",
    "        self.df = self.df.fillna('')\n",
    "\n",
    "    def get_product_names(self):\n",
    "        lst = ['라벨제품명', '중량(수량)', '단위']\n",
    "        df = self.df[lst].values.tolist()\n",
    "        product_names = []\n",
    "        for idx in df:\n",
    "            product_names.append(''.join([str(word) for word in idx]))\n",
    "        return product_names\n",
    "\n",
    "    def get_product_name_by_barcode(self, barcode):\n",
    "        df = self.df\n",
    "        df = df[df['바코드'].astype(float) == barcode]\n",
    "        product_name = df['라벨제품명'].values.tolist()\n",
    "        return product_name[0]\n",
    "\n",
    "    def get_product_nick_names(self):\n",
    "        nick_names = list(self.df['라벨제품명별칭'])\n",
    "        return nick_names\n",
    "\n",
    "    def get_product_barcodes(self):\n",
    "        barcodes = list(self.df['바코드'])\n",
    "        return barcodes\n",
    "\n",
    "    def get_product_inspections(self):\n",
    "        lst = ['제품명검사', '중량(입수)검사', '인증마크검사', '인증정보검사']\n",
    "        inspections = self.df[lst]\n",
    "        inspections = inspections.replace('검사', 'O')\n",
    "        inspections = inspections.replace('pass', 'X')\n",
    "        print(type(inspections))\n",
    "        inspections_lst = inspections.values.tolist()\n",
    "        barcodes = self.get_product_barcodes()\n",
    "        check_dict = {}\n",
    "        for idx, barcode in enumerate(barcodes):\n",
    "            check_dict[barcode] = inspections_lst[idx]\n",
    "        return check_dict\n",
    "\n",
    "    def product_inspection_result(self):\n",
    "        product_names = self.get_product_names()\n",
    "        result_dict = {}\n",
    "        for product_name in product_names:\n",
    "            count = {'누적불합격': 0, '연속유보': 0, '총인식수': 0}\n",
    "            result_dict[product_name] = count\n",
    "        return result_dict"
   ],
   "metadata": {
    "collapsed": false,
    "pycharm": {
     "name": "#%%\n"
    }
   }
  },
  {
   "cell_type": "code",
   "execution_count": 217,
   "outputs": [],
   "source": [
    "db = Db()"
   ],
   "metadata": {
    "collapsed": false,
    "pycharm": {
     "name": "#%%\n"
    }
   }
  },
  {
   "cell_type": "code",
   "execution_count": 218,
   "outputs": [
    {
     "data": {
      "text/plain": "'친환경 방울토마토'"
     },
     "execution_count": 218,
     "metadata": {},
     "output_type": "execute_result"
    }
   ],
   "source": [
    "db.get_product_names()\n",
    "db.get_product_name_by_barcode(2500000279935)"
   ],
   "metadata": {
    "collapsed": false,
    "pycharm": {
     "name": "#%%\n"
    }
   }
  },
  {
   "cell_type": "code",
   "execution_count": 196,
   "outputs": [
    {
     "data": {
      "text/plain": "['유기농 깐 밤']"
     },
     "execution_count": 196,
     "metadata": {},
     "output_type": "execute_result"
    }
   ],
   "source": [
    "\n",
    "import pandas as pd\n",
    "import numpy as np\n",
    "df = pd.read_excel('../../Database/제품등록정보20211015.xlsx')\n",
    "df = df[df['라벨제품명'].str.contains('운영중단') == False]\n",
    "df = df.fillna('')\n",
    "df = df[df['바코드'].astype(float) == 2500000082634]\n",
    "product_name = df['라벨제품명']\n",
    "product_name.values.tolist()"
   ],
   "metadata": {
    "collapsed": false,
    "pycharm": {
     "name": "#%%\n"
    }
   }
  },
  {
   "cell_type": "code",
   "execution_count": 111,
   "outputs": [
    {
     "data": {
      "text/plain": "    ERP코드          ERP품목명            바코드      라벨제품명    라벨제품명별칭 중량(수량) 단위  \\\n14   5352  친환경 방울토마토 600g  2500000279935  친환경 방울토마토  유기농 방울토마토    600  g   \n\n   제품패턴검사 제품명검사 중량(입수)검사 바코드검사 인증마크검사 인증정보검사 Unnamed: 13  \n14     검사  pass     pass  pass   pass   pass              ",
      "text/html": "<div>\n<style scoped>\n    .dataframe tbody tr th:only-of-type {\n        vertical-align: middle;\n    }\n\n    .dataframe tbody tr th {\n        vertical-align: top;\n    }\n\n    .dataframe thead th {\n        text-align: right;\n    }\n</style>\n<table border=\"1\" class=\"dataframe\">\n  <thead>\n    <tr style=\"text-align: right;\">\n      <th></th>\n      <th>ERP코드</th>\n      <th>ERP품목명</th>\n      <th>바코드</th>\n      <th>라벨제품명</th>\n      <th>라벨제품명별칭</th>\n      <th>중량(수량)</th>\n      <th>단위</th>\n      <th>제품패턴검사</th>\n      <th>제품명검사</th>\n      <th>중량(입수)검사</th>\n      <th>바코드검사</th>\n      <th>인증마크검사</th>\n      <th>인증정보검사</th>\n      <th>Unnamed: 13</th>\n    </tr>\n  </thead>\n  <tbody>\n    <tr>\n      <th>14</th>\n      <td>5352</td>\n      <td>친환경 방울토마토 600g</td>\n      <td>2500000279935</td>\n      <td>친환경 방울토마토</td>\n      <td>유기농 방울토마토</td>\n      <td>600</td>\n      <td>g</td>\n      <td>검사</td>\n      <td>pass</td>\n      <td>pass</td>\n      <td>pass</td>\n      <td>pass</td>\n      <td>pass</td>\n      <td></td>\n    </tr>\n  </tbody>\n</table>\n</div>"
     },
     "execution_count": 111,
     "metadata": {},
     "output_type": "execute_result"
    }
   ],
   "source": [
    "\n",
    "\n",
    "# df[df['바코드'].str.contains(2500000279935) == True]\n",
    "df[df['바코드'].astype(float) == 2500000279935]\n",
    "df['바코드']"
   ],
   "metadata": {
    "collapsed": false,
    "pycharm": {
     "name": "#%%\n"
    }
   }
  },
  {
   "cell_type": "code",
   "execution_count": null,
   "outputs": [],
   "source": [
    "\n",
    "# df = self.db.get_product_inspections()\n",
    "# df = df.replace('검사', 'O')\n",
    "# df = df.replace('pass', 'X')\n",
    "# for idx in range(len(df)):\n",
    "#     check_lst.append(list(df.iloc[idx].to_dict().values()))\n",
    "# barcode_lst = list(df['바코드'].to_dict().values())\n",
    "# for idx, barcode in enumerate(barcode_lst):\n",
    "#     check_inspection_daily[barcode] = check_lst[idx]\n",
    "\n",
    "\n",
    "# db = Db()\n",
    "# db.product_inspection_result()"
   ],
   "metadata": {
    "collapsed": false,
    "pycharm": {
     "name": "#%%\n"
    }
   }
  },
  {
   "cell_type": "code",
   "execution_count": 95,
   "outputs": [
    {
     "data": {
      "text/plain": "{2500000082634: ['O', 'O', 'O', 'O'],\n 2500000070556: ['O', 'O', 'O', 'O'],\n 2500000097904: ['O', 'O', 'O', 'O'],\n 1500000031541: ['O', 'O', 'O', 'O'],\n 2500000100123: ['O', 'O', 'O', 'O'],\n 1500000002428: ['O', 'O', 'O', 'O'],\n 1500000119546: ['O', 'O', 'X', 'X'],\n 1500000157944: ['O', 'O', 'O', 'O'],\n 1500000002466: ['O', 'O', 'O', 'O'],\n 2500000245466: ['X', 'X', 'X', 'X'],\n 2500000178498: ['X', 'X', 'X', 'X'],\n 2500000252983: ['X', 'X', 'X', 'X'],\n 2500000145629: ['O', 'O', 'X', 'O'],\n 2500000279935: ['O', 'O', 'O', 'O'],\n 2500000279942: ['O', 'O', 'O', 'O'],\n 1500000050207: ['O', 'O', 'O', 'O'],\n 2500000119200: ['O', 'O', 'O', 'O'],\n 2500000021893: ['O', 'O', 'O', 'O'],\n 2500000289552: ['O', 'O', 'O', 'O'],\n 2500000292446: ['O', 'O', 'O', 'O'],\n 2500000296963: ['O', 'O', 'O', 'O'],\n 2500000301681: ['O', 'O', 'X', 'X']}"
     },
     "execution_count": 95,
     "metadata": {},
     "output_type": "execute_result"
    }
   ],
   "source": [
    "df = pd.read_excel('../../Database/제품등록정보20211015.xlsx')\n",
    "df = df[df['라벨제품명'].str.contains('운영중단') == False]\n",
    "df = df.fillna('')\n",
    "lst = ['제품명검사', '중량(입수)검사', '인증마크검사', '인증정보검사']\n",
    "inspections = df[lst]\n",
    "inspections = inspections.replace('검사', 'O')\n",
    "inspections = inspections.replace('pass', 'X')\n",
    "inspections_lst = inspections.values.tolist()\n",
    "db = Db()\n",
    "barcodes = db.get_product_barcodes()\n",
    "check_dict = {}\n",
    "for idx, barcode in enumerate(barcodes):\n",
    "    check_dict[barcode] = inspections_lst[idx]\n",
    "check_dict"
   ],
   "metadata": {
    "collapsed": false,
    "pycharm": {
     "name": "#%%\n"
    }
   }
  },
  {
   "cell_type": "code",
   "execution_count": 1,
   "outputs": [
    {
     "data": {
      "text/plain": "{'product_name': ['유기농 표고버섯', '유기농 표고버섯', '100%', '승인'],\n 'weight': ['300g', '300g', '100%', '승인'],\n 'barcode': ['2500000145629', '2500000145629', '100%', '승인'],\n 'cert_mark': [],\n 'cert_result': [['12100179 금사행버섯문과', '12100779 흙사랑버섯분과', '82%', '오류']]}"
     },
     "execution_count": 1,
     "metadata": {},
     "output_type": "execute_result"
    }
   ],
   "source": [
    "result_dict = {'product_name': ['유기농 표고버섯', '유기농 표고버섯', '100%', '승인'], 'weight': ['300g', '300g', '100%', '승인'], 'barcode': ['2500000145629', '2500000145629', '100%', '승인'], 'cert_mark': [], 'cert_result': [['12100179 금사행버섯문과', '12100779 흙사랑버섯분과', '82%', '오류']]}\n",
    "\n",
    "result_dict"
   ],
   "metadata": {
    "collapsed": false,
    "pycharm": {
     "name": "#%%\n"
    }
   }
  }
 ],
 "metadata": {
  "kernelspec": {
   "display_name": "Python 3 (ipykernel)",
   "language": "python",
   "name": "python3"
  },
  "language_info": {
   "codemirror_mode": {
    "name": "ipython",
    "version": 3
   },
   "file_extension": ".py",
   "mimetype": "text/x-python",
   "name": "python",
   "nbconvert_exporter": "python",
   "pygments_lexer": "ipython3",
   "version": "3.9.8"
  }
 },
 "nbformat": 4,
 "nbformat_minor": 5
}