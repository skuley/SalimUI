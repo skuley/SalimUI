{
 "cells": [
  {
   "cell_type": "code",
   "execution_count": 6,
   "id": "57973b30-b829-4cc4-a163-41eea28c4ce0",
   "metadata": {},
   "outputs": [
    {
     "name": "stderr",
     "output_type": "stream",
     "text": [
      "100%|██████████| 23/23 [00:00<00:00, 1471.37it/s]\n"
     ]
    }
   ],
   "source": [
    "import os\n",
    "import pandas as pd\n",
    "from tqdm import tqdm\n",
    "df = pd.read_excel('../Database/제품등록정보20211015.xlsx')\n",
    "barcodes = df['바코드']\n",
    "for barcode in tqdm(barcodes):\n",
    "    os.makedirs(f'../Image/labels/{str(barcode)}', exist_ok=True)"
   ]
  },
  {
   "cell_type": "code",
   "execution_count": 11,
   "outputs": [],
   "source": [
    "from flask import Flask\n",
    "app = Flask('Salim OCR Result')\n",
    "\n",
    "@app.route('/ocr')\n",
    "def get_ocr_result(ocr_result):\n",
    "    pass\n",
    "\n",
    "if __name__ == '__main__':\n",
    "    app.run()"
   ],
   "metadata": {
    "collapsed": false,
    "pycharm": {
     "name": "#%%\n"
    }
   }
  }
 ],
 "metadata": {
  "kernelspec": {
   "display_name": "Python 3 (ipykernel)",
   "language": "python",
   "name": "python3"
  },
  "language_info": {
   "codemirror_mode": {
    "name": "ipython",
    "version": 3
   },
   "file_extension": ".py",
   "mimetype": "text/x-python",
   "name": "python",
   "nbconvert_exporter": "python",
   "pygments_lexer": "ipython3",
   "version": "3.9.8"
  }
 },
 "nbformat": 4,
 "nbformat_minor": 5
}